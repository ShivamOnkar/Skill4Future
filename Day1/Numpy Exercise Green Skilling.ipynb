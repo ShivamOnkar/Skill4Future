{
 "cells": [
  {
   "cell_type": "markdown",
   "id": "e040e8a6-7289-4d1b-b6f4-e182a5b3dd2b",
   "metadata": {},
   "source": [
    "Exercise 1: Analyzing Carbon Emissions Data \n",
    "\n",
    "Imagine you have a dataset containing carbon emissions from various cities in a country over a period of time. The data is organized in a NumPy array where each row represents a year, and each column represents a city. "
   ]
  },
  {
   "cell_type": "markdown",
   "id": "25c83bb0-30e7-416c-8541-41937daf4570",
   "metadata": {},
   "source": [
    "Task: \n",
    "\n",
    "1. Create a 2D NumPy array that stores carbon emissions (in tons) for 5 cities over 10 years. The data should be random numbers between 1000 and 5000 (use numpy.random.randint). \n",
    "\n",
    "2. Find the total emissions for each city over the 10 years. \n",
    "\n",
    "3. Find the year with the highest total emissions. \n",
    "\n",
    "4. Calculate the average emissions for all cities in a specific year (say, Year 5). "
   ]
  },
  {
   "cell_type": "code",
   "execution_count": 1,
   "id": "24a24eab-f2cb-48be-a7ad-8eebc6587d9c",
   "metadata": {},
   "outputs": [],
   "source": [
    "import numpy as np"
   ]
  },
  {
   "cell_type": "code",
   "execution_count": 2,
   "id": "1b64de02-55b1-4323-ac78-e1fd9987eed9",
   "metadata": {},
   "outputs": [],
   "source": [
    "emissions_data = np.random.randint(1000, 5000, size=(10, 5))"
   ]
  },
  {
   "cell_type": "code",
   "execution_count": 3,
   "id": "ccc47ef6-5758-4ed2-b44e-dd095a37c69d",
   "metadata": {},
   "outputs": [
    {
     "data": {
      "text/plain": [
       "array([[3118, 1608, 2947, 3483, 1137],\n",
       "       [1319, 2829, 4931, 2603, 1013],\n",
       "       [4648, 2898, 2341, 2000, 2716],\n",
       "       [2630, 2641, 4748, 3787, 4478],\n",
       "       [1931, 2389, 1617, 4507, 1645],\n",
       "       [2067, 1488, 1479, 2734, 2075],\n",
       "       [4457, 3238, 2562, 1260, 3433],\n",
       "       [2360, 1242, 3151, 1029, 3628],\n",
       "       [1330, 4686, 1262, 3602, 2489],\n",
       "       [2649, 2415, 3209, 3852, 3033]])"
      ]
     },
     "execution_count": 3,
     "metadata": {},
     "output_type": "execute_result"
    }
   ],
   "source": [
    "emissions_data"
   ]
  },
  {
   "cell_type": "code",
   "execution_count": 5,
   "id": "e8b8a2f2-7acf-4a9f-882e-1712f30a9bf5",
   "metadata": {},
   "outputs": [
    {
     "data": {
      "text/plain": [
       "array([26509, 25434, 28247, 28857, 25647])"
      ]
     },
     "execution_count": 5,
     "metadata": {},
     "output_type": "execute_result"
    }
   ],
   "source": [
    "total_city_wise = emissions_data.sum(axis = 0)\n",
    "total_city_wise"
   ]
  },
  {
   "cell_type": "code",
   "execution_count": 6,
   "id": "12d6950a-29f1-4a5f-82b7-6de97c3940a2",
   "metadata": {},
   "outputs": [
    {
     "data": {
      "text/plain": [
       "array([12293, 12695, 14603, 18284, 12089,  9843, 14950, 11410, 13369,\n",
       "       15158])"
      ]
     },
     "execution_count": 6,
     "metadata": {},
     "output_type": "execute_result"
    }
   ],
   "source": [
    "total_year_wise = emissions_data.sum(axis = 1)\n",
    "total_year_wise"
   ]
  },
  {
   "cell_type": "code",
   "execution_count": 8,
   "id": "db8704dc-0dfc-41cb-834a-afa4c1918ce5",
   "metadata": {},
   "outputs": [
    {
     "name": "stdout",
     "output_type": "stream",
     "text": [
      "4\n"
     ]
    }
   ],
   "source": [
    "year_max = total_year_wise.argmax()\n",
    "print(year_max+1)"
   ]
  },
  {
   "cell_type": "code",
   "execution_count": 10,
   "id": "aaf3db55-14b2-43ca-a7bd-9f1586eef5ac",
   "metadata": {},
   "outputs": [
    {
     "data": {
      "text/plain": [
       "array([2458.6, 2539. , 2920.6, 3656.8, 2417.8, 1968.6, 2990. , 2282. ,\n",
       "       2673.8, 3031.6])"
      ]
     },
     "execution_count": 10,
     "metadata": {},
     "output_type": "execute_result"
    }
   ],
   "source": [
    "average_emission = emissions_data.mean(axis = 1)\n",
    "average_emission"
   ]
  },
  {
   "cell_type": "code",
   "execution_count": 11,
   "id": "07fe29a7-eb55-4e1f-84b7-3f2adf2bf2ea",
   "metadata": {},
   "outputs": [
    {
     "data": {
      "text/plain": [
       "2417.8"
      ]
     },
     "execution_count": 11,
     "metadata": {},
     "output_type": "execute_result"
    }
   ],
   "source": [
    "average_emission[4]"
   ]
  },
  {
   "cell_type": "code",
   "execution_count": 152,
   "id": "564b8dec-ccdd-489a-ae94-4ac609f269e9",
   "metadata": {},
   "outputs": [
    {
     "data": {
      "text/plain": [
       "array([26102, 31227, 30920, 29574, 23997])"
      ]
     },
     "execution_count": 152,
     "metadata": {},
     "output_type": "execute_result"
    }
   ],
   "source": [
    "# Step 2: Find total emissions for each city (sum along the columns) \n",
    "city_totals = emissions_data.sum(axis = 0)\n",
    "city_totals"
   ]
  },
  {
   "cell_type": "code",
   "execution_count": 108,
   "id": "2d301129-f73b-4d5f-b9f5-f8d5cbb62498",
   "metadata": {},
   "outputs": [
    {
     "data": {
      "text/plain": [
       "array([29846, 29828, 31730, 29839, 28912])"
      ]
     },
     "execution_count": 108,
     "metadata": {},
     "output_type": "execute_result"
    }
   ],
   "source": [
    "city_totals"
   ]
  },
  {
   "cell_type": "code",
   "execution_count": 154,
   "id": "3336d80a-ec5f-41c5-be6c-332eebba467e",
   "metadata": {},
   "outputs": [],
   "source": [
    "year_total = emissions_data.sum(axis=1)"
   ]
  },
  {
   "cell_type": "code",
   "execution_count": 156,
   "id": "eace21c9-93b3-4486-9b97-4f93d45ee778",
   "metadata": {},
   "outputs": [
    {
     "data": {
      "text/plain": [
       "array([ 8883, 13403, 16665, 12760, 12562, 15536, 15987, 13376, 17890,\n",
       "       14758])"
      ]
     },
     "execution_count": 156,
     "metadata": {},
     "output_type": "execute_result"
    }
   ],
   "source": [
    "year_total"
   ]
  },
  {
   "cell_type": "code",
   "execution_count": 158,
   "id": "2811dbad-cda0-42a8-8936-930fec69fad0",
   "metadata": {},
   "outputs": [
    {
     "name": "stdout",
     "output_type": "stream",
     "text": [
      "9\n"
     ]
    }
   ],
   "source": [
    "max_year = np.argmax(year_total)\n",
    "print(max_year+1)"
   ]
  },
  {
   "cell_type": "code",
   "execution_count": 160,
   "id": "d48b5763-7026-4946-a682-87f932f84707",
   "metadata": {},
   "outputs": [
    {
     "data": {
      "text/plain": [
       "2512.4"
      ]
     },
     "execution_count": 160,
     "metadata": {},
     "output_type": "execute_result"
    }
   ],
   "source": [
    "avg_emission= emissions_data[4].mean()\n",
    "avg_emission"
   ]
  },
  {
   "cell_type": "code",
   "execution_count": 118,
   "id": "8e8e15cb-99b2-4a4c-874d-1bdf3eff1177",
   "metadata": {},
   "outputs": [
    {
     "data": {
      "text/plain": [
       "array([[4014, 3561, 4588, 3011, 2089],\n",
       "       [3454, 2128, 3574, 3091, 3101],\n",
       "       [1975, 1757, 1602, 4244, 2615],\n",
       "       [3552, 4303, 2986, 4821, 4091],\n",
       "       [3652, 2344, 2211, 3528, 1437],\n",
       "       [1289, 4004, 3542, 1693, 4210],\n",
       "       [2105, 1814, 3485, 3325, 3232],\n",
       "       [2246, 3662, 2663, 2003, 2678],\n",
       "       [4596, 2527, 2960, 2524, 1721],\n",
       "       [2963, 3728, 4119, 1599, 3738]])"
      ]
     },
     "execution_count": 118,
     "metadata": {},
     "output_type": "execute_result"
    }
   ],
   "source": [
    "emissions_data"
   ]
  },
  {
   "cell_type": "code",
   "execution_count": 162,
   "id": "b1434907-ac13-4171-988b-8ae066d5b9b8",
   "metadata": {},
   "outputs": [],
   "source": [
    "mean_of_5th_city = emissions_data[:, 4:].mean()"
   ]
  },
  {
   "cell_type": "code",
   "execution_count": 164,
   "id": "0e573724-990c-4d5e-b0bf-0ff21fbb848a",
   "metadata": {},
   "outputs": [
    {
     "data": {
      "text/plain": [
       "2399.7"
      ]
     },
     "execution_count": 164,
     "metadata": {},
     "output_type": "execute_result"
    }
   ],
   "source": [
    "mean_of_5th_city"
   ]
  },
  {
   "cell_type": "code",
   "execution_count": 166,
   "id": "b9738684-9caa-4b38-9ac5-210817f824cf",
   "metadata": {},
   "outputs": [],
   "source": [
    "mean_data = emissions_data.mean(axis = 0)"
   ]
  },
  {
   "cell_type": "code",
   "execution_count": 168,
   "id": "530e0436-9751-45cf-9c4e-0176d2f202ad",
   "metadata": {},
   "outputs": [
    {
     "data": {
      "text/plain": [
       "array([2610.2, 3122.7, 3092. , 2957.4, 2399.7])"
      ]
     },
     "execution_count": 168,
     "metadata": {},
     "output_type": "execute_result"
    }
   ],
   "source": [
    "mean_data"
   ]
  },
  {
   "cell_type": "code",
   "execution_count": 128,
   "id": "29db0d19-c0f6-43f0-8491-2b7d26f095a6",
   "metadata": {},
   "outputs": [],
   "source": [
    "cityA_mean = mean_data[0]"
   ]
  },
  {
   "cell_type": "code",
   "execution_count": 130,
   "id": "6823a4c5-8b36-4435-a21a-b4423a0e38b4",
   "metadata": {},
   "outputs": [],
   "source": [
    "cityB_mean = mean_data[1]"
   ]
  },
  {
   "cell_type": "code",
   "execution_count": 132,
   "id": "507a8648-0cac-4a04-ab9e-0845a486c960",
   "metadata": {},
   "outputs": [],
   "source": [
    "cityC_mean = mean_data[2]"
   ]
  },
  {
   "cell_type": "code",
   "execution_count": 134,
   "id": "42701bfe-fcb5-4d35-90d9-1e29c52a32ff",
   "metadata": {},
   "outputs": [],
   "source": [
    "cityD_mean = mean_data[3]"
   ]
  },
  {
   "cell_type": "code",
   "execution_count": 136,
   "id": "132d66a5-0b41-41f4-b100-6f887366748c",
   "metadata": {},
   "outputs": [],
   "source": [
    "cityE_mean = mean_data[4]"
   ]
  },
  {
   "cell_type": "code",
   "execution_count": 170,
   "id": "c105ee46-67cf-46e5-afc3-08e15755c665",
   "metadata": {},
   "outputs": [
    {
     "name": "stdout",
     "output_type": "stream",
     "text": [
      "total emissions for each city over the 10 years [26102 31227 30920 29574 23997]\n",
      "The year with the highest total emissions is 9\n",
      "Average emission for 5th year is 2512.4\n"
     ]
    }
   ],
   "source": [
    "print(f\"total emissions for each city over the 10 years {city_totals}\")\n",
    "print(f\"The year with the highest total emissions is {max_year + 1}\")\n",
    "print(f\"Average emission for 5th year is {avg_emission}\")"
   ]
  },
  {
   "cell_type": "markdown",
   "id": "db33b53c-e343-446f-a5b2-65b38542ebef",
   "metadata": {},
   "source": [
    "Exercise 2: Renewable Energy Growth Analysis \n",
    "\n",
    "You’re analyzing the growth of renewable energy production over time. You have data for the percentage of total energy production that comes from renewable sources. \n",
    "\n",
    "Task: \n",
    "\n",
    "1. Create a NumPy array to represent renewable energy percentages for the last 20 years (between 10% and 60%). \n",
    "\n",
    "2. Calculate the overall average renewable energy percentage. \n",
    "\n",
    "3. Identify the year(s) where the renewable energy percentage was below 20%. \n",
    "\n",
    "4. Find the highest percentage of renewable energy in a single year. "
   ]
  },
  {
   "cell_type": "code",
   "execution_count": 172,
   "id": "71dabbcb-304e-410c-a429-4bcbb0cc23c7",
   "metadata": {},
   "outputs": [],
   "source": [
    "# Step 1: Generate random renewable energy percentages (20 years) \n",
    "renewable_energy = np.random.randint(10, 61, size=20)"
   ]
  },
  {
   "cell_type": "code",
   "execution_count": 174,
   "id": "ff5bb5ff-3f60-4b23-87c5-758f30f7bf03",
   "metadata": {},
   "outputs": [
    {
     "data": {
      "text/plain": [
       "array([31, 15, 19, 29, 60, 40, 34, 55, 53, 36, 57, 41, 55, 49, 56, 32, 40,\n",
       "       14, 22, 48])"
      ]
     },
     "execution_count": 174,
     "metadata": {},
     "output_type": "execute_result"
    }
   ],
   "source": [
    "renewable_energy"
   ]
  },
  {
   "cell_type": "code",
   "execution_count": 176,
   "id": "d0fa9d34-9689-4e60-92dd-5f6a701f89cd",
   "metadata": {},
   "outputs": [
    {
     "data": {
      "text/plain": [
       "39.3"
      ]
     },
     "execution_count": 176,
     "metadata": {},
     "output_type": "execute_result"
    }
   ],
   "source": [
    "# Step 2: Calculate the overall average renewable energy percentage \n",
    "avg_renewable_percentage = renewable_energy.mean()\n",
    "avg_renewable_percentage"
   ]
  },
  {
   "cell_type": "code",
   "execution_count": 188,
   "id": "725f48a0-b3d0-4b38-896f-0b7579a3b853",
   "metadata": {},
   "outputs": [
    {
     "name": "stdout",
     "output_type": "stream",
     "text": [
      "[ 2  3 18]\n"
     ]
    }
   ],
   "source": [
    "ren_below = np.where(renewable_energy < 20)[0]\n",
    "print(ren_below + 1)"
   ]
  },
  {
   "cell_type": "code",
   "execution_count": 192,
   "id": "f3747a71-c29d-4343-94aa-74b84c9c711c",
   "metadata": {},
   "outputs": [
    {
     "data": {
      "text/plain": [
       "5"
      ]
     },
     "execution_count": 192,
     "metadata": {},
     "output_type": "execute_result"
    }
   ],
   "source": [
    "high_per = np.argmax(renewable_energy)\n",
    "high_per + 1"
   ]
  },
  {
   "cell_type": "code",
   "execution_count": 76,
   "id": "9d7ef296-3d5b-4ae1-8e72-aa0c5c06c0c0",
   "metadata": {},
   "outputs": [],
   "source": [
    "# Step 3: Identify years where renewable energy percentage was below 20% \n",
    "below_20_years = np.where(renewable_energy < 20)[0] + 1 # +1 for 1-based indexing "
   ]
  },
  {
   "cell_type": "code",
   "execution_count": 78,
   "id": "1f9a5780-04ec-4e43-ad9a-fc5bdd721a16",
   "metadata": {},
   "outputs": [
    {
     "data": {
      "text/plain": [
       "array([ 1,  2,  9, 14], dtype=int64)"
      ]
     },
     "execution_count": 78,
     "metadata": {},
     "output_type": "execute_result"
    }
   ],
   "source": [
    "below_20_years"
   ]
  },
  {
   "cell_type": "code",
   "execution_count": 80,
   "id": "47e60c91-41e6-4b68-8c05-7e41527810f0",
   "metadata": {},
   "outputs": [],
   "source": [
    "max_production = renewable_energy.max()"
   ]
  },
  {
   "cell_type": "code",
   "execution_count": 82,
   "id": "8b7b999c-0638-4034-aabb-8ad8be03a97e",
   "metadata": {},
   "outputs": [
    {
     "data": {
      "text/plain": [
       "59"
      ]
     },
     "execution_count": 82,
     "metadata": {},
     "output_type": "execute_result"
    }
   ],
   "source": [
    "max_production"
   ]
  },
  {
   "cell_type": "code",
   "execution_count": 84,
   "id": "d6c61cf6-fc20-49ae-8d38-5bf4166361b1",
   "metadata": {},
   "outputs": [],
   "source": [
    "max_production_year = np.argmax(renewable_energy)"
   ]
  },
  {
   "cell_type": "code",
   "execution_count": 86,
   "id": "221f3ee5-26f8-4462-9851-696a14952202",
   "metadata": {},
   "outputs": [
    {
     "data": {
      "text/plain": [
       "12"
      ]
     },
     "execution_count": 86,
     "metadata": {},
     "output_type": "execute_result"
    }
   ],
   "source": [
    "max_production_year + 1"
   ]
  },
  {
   "cell_type": "code",
   "execution_count": null,
   "id": "6cf6ae25-2a68-428e-951f-6410840132ef",
   "metadata": {},
   "outputs": [],
   "source": [
    "max_prod_array = np.where(renewable_energy >= max(renewable_energy))[0] + 1"
   ]
  },
  {
   "cell_type": "code",
   "execution_count": null,
   "id": "70a5ab48-7b9b-4c57-aa0e-463498e06262",
   "metadata": {},
   "outputs": [],
   "source": [
    "max_prod_array"
   ]
  },
  {
   "cell_type": "markdown",
   "id": "3a04dc00-6b90-4591-8dbc-e3678dcb634b",
   "metadata": {},
   "source": [
    "Exercise 3: Water Usage Optimization \n",
    "\n",
    "You’re tasked with analyzing water usage data for agricultural fields (5 fields) over the course of a year. The data represents water usage (in liters) for each field in each month. \n",
    "\n",
    "Task: \n",
    "\n",
    "1. Create a 2D NumPy array where each row represents a month, and each column represents a field. Generate random data between 5000 and 20000 liters. \n",
    "\n",
    "2. Calculate the total water usage for each field over the year. \n",
    "\n",
    "3. Find the month with the highest water usage across all fields. \n",
    "\n",
    "4. Calculate the average water usage for all fields in a specific month (e.g., February). "
   ]
  },
  {
   "cell_type": "markdown",
   "id": "26c407fc-04c9-4b9d-83cc-4ae682834022",
   "metadata": {},
   "source": [
    "Exercise 3: Water Usage Optimization \n",
    "\n",
    "You’re tasked with analyzing water usage data for agricultural fields over the course of a year. The data represents water usage (in liters) for each field in each month. \n",
    "\n",
    "Task: \n",
    "\n",
    "Create a 2D NumPy array where each row represents a month, and each column represents a field. Generate random data between 5000 and 20000 liters. \n",
    "\n",
    "Calculate the total water usage for each field over the year. \n",
    "\n",
    "Find the month with the highest water usage across all fields. \n",
    "\n",
    "Calculate the average water usage for all fields in a specific month (e.g., February).  = np.random.randint(5000, 20000, size = (12, 5))"
   ]
  },
  {
   "cell_type": "code",
   "execution_count": 194,
   "id": "2a3f04ea-8975-40b8-94a8-37fd08328138",
   "metadata": {},
   "outputs": [],
   "source": [
    "water_usage = np.random.randint(5000, 20000, size = (12, 5))"
   ]
  },
  {
   "cell_type": "code",
   "execution_count": 196,
   "id": "c3862932-b7cb-4ea9-b6fa-fea8b1d6fed0",
   "metadata": {},
   "outputs": [
    {
     "data": {
      "text/plain": [
       "array([[18652,  9115,  6880, 12017,  9663],\n",
       "       [11399,  8839, 19166, 10044,  6857],\n",
       "       [17238,  5864,  7069,  9619, 19394],\n",
       "       [18667, 14957, 10418, 13549, 13091],\n",
       "       [ 8389,  5304, 10731, 18296,  8874],\n",
       "       [ 9614, 17009,  8629, 19829, 19953],\n",
       "       [14448, 17358,  8358,  5397, 19178],\n",
       "       [18648, 12215, 15275,  8657, 19980],\n",
       "       [12848, 15300, 13782, 10220, 16692],\n",
       "       [10912,  8912,  9573, 14725,  6764],\n",
       "       [15165, 12294, 15263, 17175,  9933],\n",
       "       [ 6208, 13069,  7820, 13522, 12424]])"
      ]
     },
     "execution_count": 196,
     "metadata": {},
     "output_type": "execute_result"
    }
   ],
   "source": [
    "water_usage"
   ]
  },
  {
   "cell_type": "code",
   "execution_count": 204,
   "id": "44178c4c-f1fa-4540-b2a7-f4bf01ccf268",
   "metadata": {},
   "outputs": [
    {
     "data": {
      "text/plain": [
       "11261.0"
      ]
     },
     "execution_count": 204,
     "metadata": {},
     "output_type": "execute_result"
    }
   ],
   "source": [
    "ave_monthwise = water_usage.mean(axis = 1)\n",
    "ave_monthwise[1]"
   ]
  },
  {
   "cell_type": "code",
   "execution_count": null,
   "id": "7e9f7035-a7dc-4169-9ec6-8aa8aea0970d",
   "metadata": {},
   "outputs": [],
   "source": []
  },
  {
   "cell_type": "code",
   "execution_count": null,
   "id": "af09c15f-6134-434c-b564-44fa504181bd",
   "metadata": {},
   "outputs": [],
   "source": []
  },
  {
   "cell_type": "code",
   "execution_count": 92,
   "id": "8a06a69d-b5f6-4f84-a60e-e2ae5b72b76e",
   "metadata": {},
   "outputs": [],
   "source": [
    "total_water_feildwise = water_usage.sum(axis = 0)"
   ]
  },
  {
   "cell_type": "code",
   "execution_count": 94,
   "id": "7db4fbd9-c87c-447e-9438-b2617979a0fd",
   "metadata": {},
   "outputs": [
    {
     "data": {
      "text/plain": [
       "array([156055, 123377, 164069, 143354, 148901])"
      ]
     },
     "execution_count": 94,
     "metadata": {},
     "output_type": "execute_result"
    }
   ],
   "source": [
    "total_water_feildwise"
   ]
  },
  {
   "cell_type": "code",
   "execution_count": 96,
   "id": "baa07fa8-e6b2-4f42-909b-18b10b62f969",
   "metadata": {},
   "outputs": [],
   "source": [
    "total_water_monthwise = water_usage.sum(axis = 1)"
   ]
  },
  {
   "cell_type": "code",
   "execution_count": 98,
   "id": "168524a8-9b0a-485d-85b6-51573cadfa72",
   "metadata": {},
   "outputs": [
    {
     "data": {
      "text/plain": [
       "array([51474, 56629, 59202, 53141, 66963, 54870, 77024, 73421, 64731,\n",
       "       66404, 57167, 54730])"
      ]
     },
     "execution_count": 98,
     "metadata": {},
     "output_type": "execute_result"
    }
   ],
   "source": [
    "total_water_monthwise"
   ]
  },
  {
   "cell_type": "code",
   "execution_count": null,
   "id": "1ca0880a-fe88-49f4-94c4-18a15d1956ec",
   "metadata": {},
   "outputs": [],
   "source": [
    "max(total_water_monthwise)"
   ]
  },
  {
   "cell_type": "code",
   "execution_count": null,
   "id": "50e4123a-0f47-4341-92cb-7a812ca2018f",
   "metadata": {},
   "outputs": [],
   "source": [
    "max_month = np.argmax(total_water_monthwise) + 1"
   ]
  },
  {
   "cell_type": "code",
   "execution_count": null,
   "id": "04031fc7-2802-467b-8dfa-c220163ecd51",
   "metadata": {},
   "outputs": [],
   "source": [
    "max_month"
   ]
  },
  {
   "cell_type": "code",
   "execution_count": null,
   "id": "8ddbfd1d-efda-4990-9f8a-f63d63eca71b",
   "metadata": {},
   "outputs": [],
   "source": [
    "avg_water_monthwise = water_usage.mean(axis = 1)\n",
    "avg_water_monthwise"
   ]
  },
  {
   "cell_type": "code",
   "execution_count": null,
   "id": "527ab6e5-662b-4047-8102-8de6aa360146",
   "metadata": {},
   "outputs": [],
   "source": [
    "avg_water_monthwise[1] #For accessing feb month data"
   ]
  },
  {
   "cell_type": "markdown",
   "id": "2381981b-4473-4606-9c92-b7fe0c11f54f",
   "metadata": {},
   "source": [
    "Exercise 4: Forest Area Deforestation Rates \n",
    "\n",
    "You’re studying the deforestation rates over a decade. Data is recorded on the total forest area (in hectares) lost per year. \n",
    "\n",
    "Task: \n",
    "\n",
    "1. Create a 1D NumPy array that represents forest area loss over 15 years (random values between 10000 and 50000 hectares). \n",
    "\n",
    "2. Find the year with the highest deforestation. \n",
    "\n",
    "3. Calculate the total deforestation over the 15 years. \n",
    "\n",
    "4. Calculate the average annual deforestation rate. "
   ]
  },
  {
   "cell_type": "code",
   "execution_count": null,
   "id": "ce874a84-43d7-4ed2-bea0-e4e77f906b96",
   "metadata": {},
   "outputs": [],
   "source": [
    "emissions_data.shape[0]"
   ]
  },
  {
   "cell_type": "markdown",
   "id": "8364e934-553d-49c1-8dd2-8e07ce752d17",
   "metadata": {},
   "source": [
    "Exercise 3: Waste Management\n",
    "\n",
    "You are analyzing waste generation data across 6 different sectors (e.g., Residential, Industrial, Commercial, etc.) over the last 5 years. The data is organized in a 2D NumPy array.\n",
    "\n",
    "Task:\n",
    "1. Create a 2D NumPy array of shape (5, 6), representing the waste generated (in tons) in each sector for each of the last 5 years. Populate it with random data between 1000 and 5000 tons.\n",
    "   \n",
    "2. Calculate the total waste generated by each sector over the 5 years.\n",
    "\n",
    "3. Identify the year with the highest total waste generation.\n",
    "\n",
    "4. Find the sector with the lowest waste generation in a specific year (e.g., Year 3).\n",
    "\n",
    "5. Normalize the waste data so that each sector’s waste data is scaled between 0 and 1 (using Min-Max scaling)."
   ]
  },
  {
   "cell_type": "code",
   "execution_count": null,
   "id": "48daf1d6-64d1-4a17-8c87-8d7f4cdfdb07",
   "metadata": {},
   "outputs": [],
   "source": [
    "waste_data = np.random.randint(1000, 5000, size = (5, 6))"
   ]
  },
  {
   "cell_type": "code",
   "execution_count": null,
   "id": "46c97012-709f-4712-8c1b-44cf45ef19f0",
   "metadata": {},
   "outputs": [],
   "source": [
    "waste_data"
   ]
  },
  {
   "cell_type": "code",
   "execution_count": null,
   "id": "57bd0cb1-fb6d-4a46-aa63-add1e82ad076",
   "metadata": {},
   "outputs": [],
   "source": [
    "total_waste_generated_by_each_sector = waste_data.sum(axis = 0)\n",
    "total_waste_generated_by_each_sector"
   ]
  },
  {
   "cell_type": "code",
   "execution_count": null,
   "id": "8af9a276-8620-47e0-ad8b-8de1de282afc",
   "metadata": {},
   "outputs": [],
   "source": [
    "total_waste_generated_by_year = waste_data.sum(axis = 1)\n",
    "total_waste_generated_by_year"
   ]
  },
  {
   "cell_type": "code",
   "execution_count": null,
   "id": "9da281e3-4455-42d8-ba49-8c9498501bbc",
   "metadata": {},
   "outputs": [],
   "source": [
    "max(total_waste_generated_by_year)"
   ]
  },
  {
   "cell_type": "code",
   "execution_count": null,
   "id": "24013ce4-c255-4868-9d27-ff7354daacc7",
   "metadata": {},
   "outputs": [],
   "source": [
    "max_waste_year = np.argmax(total_waste_generated_by_year) + 1\n",
    "max_waste_year"
   ]
  },
  {
   "cell_type": "code",
   "execution_count": null,
   "id": "9f47deab-d1d8-41b3-8add-146fafde7544",
   "metadata": {},
   "outputs": [],
   "source": [
    "low_waste_gen = waste_data[2]\n",
    "low_waste_gen"
   ]
  },
  {
   "cell_type": "code",
   "execution_count": null,
   "id": "0a300f20-dbda-4039-9577-48ffec522a0e",
   "metadata": {},
   "outputs": [],
   "source": [
    "sector_with_low_gen = np.argmax(low_waste_gen) + 1\n",
    "sector_with_low_gen"
   ]
  },
  {
   "cell_type": "code",
   "execution_count": null,
   "id": "037b6bd5-d15f-461a-9a77-4dcf8aa2c733",
   "metadata": {},
   "outputs": [],
   "source": [
    "min_data = waste_data.min(axis = 0)\n",
    "max_data = waste_data.max(axis = 0)\n",
    "std_data = (waste_data - min_data) / (max_data - min_data)\n",
    "print(np.round(std_data, 2))"
   ]
  },
  {
   "cell_type": "code",
   "execution_count": null,
   "id": "60a28b3a-e9ea-44be-9d88-b4ccae8cb307",
   "metadata": {},
   "outputs": [],
   "source": [
    "energy_data = np.random.randint(50, 300, size = (12, 3))\n",
    "energy_data"
   ]
  },
  {
   "cell_type": "code",
   "execution_count": null,
   "id": "45375bee-cbe8-4c2c-bc5d-d66b3eb46f45",
   "metadata": {},
   "outputs": [],
   "source": [
    "high_avg_device = energy_data.mean(axis = 0)\n",
    "high_avg_device"
   ]
  },
  {
   "cell_type": "code",
   "execution_count": null,
   "id": "84126954-3f74-4a0b-a810-1f5bb51ebeeb",
   "metadata": {},
   "outputs": [],
   "source": [
    "high_avg_energy_usage = np.argmin(high_avg_device) + 1"
   ]
  },
  {
   "cell_type": "code",
   "execution_count": null,
   "id": "35a14adf-1c29-431d-ac4e-72e2c106695e",
   "metadata": {},
   "outputs": [],
   "source": [
    "high_avg_energy_usage"
   ]
  },
  {
   "cell_type": "code",
   "execution_count": null,
   "id": "29e3c257-d156-4cb8-b769-163de7416454",
   "metadata": {},
   "outputs": [],
   "source": [
    "max_usage_month = energy_data.max(axis = 1)\n",
    "max_usage_month"
   ]
  },
  {
   "cell_type": "code",
   "execution_count": null,
   "id": "26ea8cf1-b363-45c7-a953-96a5b844078f",
   "metadata": {},
   "outputs": [],
   "source": []
  }
 ],
 "metadata": {
  "kernelspec": {
   "display_name": "Python [conda env:base] *",
   "language": "python",
   "name": "conda-base-py"
  },
  "language_info": {
   "codemirror_mode": {
    "name": "ipython",
    "version": 3
   },
   "file_extension": ".py",
   "mimetype": "text/x-python",
   "name": "python",
   "nbconvert_exporter": "python",
   "pygments_lexer": "ipython3",
   "version": "3.12.7"
  }
 },
 "nbformat": 4,
 "nbformat_minor": 5
}
