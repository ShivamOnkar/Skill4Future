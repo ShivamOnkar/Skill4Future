{
 "cells": [
  {
   "cell_type": "code",
   "execution_count": 1,
   "id": "2157b7f8",
   "metadata": {},
   "outputs": [
    {
     "data": {
      "text/plain": [
       "array([[17, 16, 17, 10],\n",
       "       [17, 22, 13, 25],\n",
       "       [20, 19, 14, 24],\n",
       "       [23, 20, 15, 25]], dtype=int32)"
      ]
     },
     "execution_count": 1,
     "metadata": {},
     "output_type": "execute_result"
    }
   ],
   "source": [
    "import numpy as np\n",
    "arr2d = np.random.randint(10,30,size =(4,4))\n",
    "arr2d"
   ]
  },
  {
   "cell_type": "code",
   "execution_count": 6,
   "id": "81184b9b",
   "metadata": {},
   "outputs": [
    {
     "name": "stdout",
     "output_type": "stream",
     "text": [
      "[[[17 16 26 17]\n",
      "  [22 24 18 10]\n",
      "  [26 10 19 25]]\n",
      "\n",
      " [[13 11 13 10]\n",
      "  [19 28 28 27]\n",
      "  [14 28 17 13]]\n",
      "\n",
      " [[22 19 24 22]\n",
      "  [10 24 14 26]\n",
      "  [16 17 28 26]]\n",
      "\n",
      " [[12 11 18 10]\n",
      "  [10 19 20 25]\n",
      "  [16 11 12 21]]]\n",
      "26\n"
     ]
    }
   ],
   "source": [
    "import numpy as np\n",
    "arr3d = np.random.randint(10,30,size =(4,3,4))\n",
    "print(arr3d)\n",
    "print(arr3d[-2,-1,-1])"
   ]
  },
  {
   "cell_type": "code",
   "execution_count": 22,
   "id": "4cb12097",
   "metadata": {},
   "outputs": [
    {
     "name": "stdout",
     "output_type": "stream",
     "text": [
      "[27 26 11 15 10 23 24 15 21 21]\n",
      "10\n",
      "[[13 26 22 21]\n",
      " [16 21 18 15]\n",
      " [14 11 20 13]]\n",
      "20\n"
     ]
    }
   ],
   "source": [
    "import numpy as np\n",
    "arr1d = np.random.randint(10,30,size=(10))\n",
    "print(arr1d)\n",
    "print(arr1d[4])\n",
    "arr2d = np.random.randint(10,30,size=(3,4))\n",
    "print(arr2d)\n",
    "print(arr2d[2,2])\n",
    "\n"
   ]
  },
  {
   "cell_type": "code",
   "execution_count": 23,
   "id": "f5bcd6a6",
   "metadata": {},
   "outputs": [
    {
     "name": "stdout",
     "output_type": "stream",
     "text": [
      "[[[25 17 21]\n",
      "  [29 24 18]]\n",
      "\n",
      " [[10 11 11]\n",
      "  [24 19 15]]]\n",
      "19\n",
      "15\n"
     ]
    }
   ],
   "source": [
    "arr3d = np.random.randint(10,30,size=(2,2,3))\n",
    "print(arr3d)\n",
    "print(arr3d[-1,-1,-2])\n",
    "print(arr3d[1,1,2])"
   ]
  },
  {
   "cell_type": "code",
   "execution_count": null,
   "id": "527f0cc7",
   "metadata": {},
   "outputs": [
    {
     "data": {
      "text/plain": [
       "array([[36, 37, 38, 39],\n",
       "       [41, 42, 43, 44],\n",
       "       [46, 47, 48, 49]])"
      ]
     },
     "execution_count": 35,
     "metadata": {},
     "output_type": "execute_result"
    }
   ],
   "source": [
    "#Numpy array slicing \n",
    "#Creating numpy array using arrange() and linspace()\n",
    "resource = np.arange(10,50)\n",
    "new = resource.reshape(8,5)\n",
    "new[5:,1:]\n",
    "#new[4:6,:]\n",
    "# new[4:6,-2:] "
   ]
  },
  {
   "cell_type": "code",
   "execution_count": 30,
   "id": "3c973f58",
   "metadata": {},
   "outputs": [
    {
     "name": "stdout",
     "output_type": "stream",
     "text": [
      "(24,)\n",
      "[[ 10.          13.91304348  17.82608696  21.73913043]\n",
      " [ 25.65217391  29.56521739  33.47826087  37.39130435]\n",
      " [ 41.30434783  45.2173913   49.13043478  53.04347826]\n",
      " [ 56.95652174  60.86956522  64.7826087   68.69565217]\n",
      " [ 72.60869565  76.52173913  80.43478261  84.34782609]\n",
      " [ 88.26086957  92.17391304  96.08695652 100.        ]]\n",
      "[[[ 10.          13.91304348  17.82608696  21.73913043]\n",
      "  [ 25.65217391  29.56521739  33.47826087  37.39130435]]\n",
      "\n",
      " [[ 41.30434783  45.2173913   49.13043478  53.04347826]\n",
      "  [ 56.95652174  60.86956522  64.7826087   68.69565217]]\n",
      "\n",
      " [[ 72.60869565  76.52173913  80.43478261  84.34782609]\n",
      "  [ 88.26086957  92.17391304  96.08695652 100.        ]]]\n"
     ]
    }
   ],
   "source": [
    "x = np.linspace(10,100,24)\n",
    "print(x.shape)\n",
    "print(x.reshape(6,4))\n",
    "print(x.reshape(3,2,4))"
   ]
  },
  {
   "cell_type": "code",
   "execution_count": 38,
   "id": "0eb5c795",
   "metadata": {},
   "outputs": [
    {
     "name": "stdout",
     "output_type": "stream",
     "text": [
      "1D: [ 0  1  2  3  4  5  6  7  8  9 10 11 12 13 14 15 16 17 18 19]\n",
      "2D:\n",
      "[[ 0  1  2  3  4]\n",
      " [ 5  6  7  8  9]\n",
      " [10 11 12 13 14]\n",
      " [15 16 17 18 19]]\n",
      "3D:\n",
      "[[[ 0  1  2  3]\n",
      "  [ 4  5  6  7]\n",
      "  [ 8  9 10 11]]\n",
      "\n",
      " [[12 13 14 15]\n",
      "  [16 17 18 19]\n",
      "  [20 21 22 23]]]\n",
      "\n",
      "1D Slicing \n",
      "arr1d[5:12]: [ 5  6  7  8  9 10 11]\n",
      "\n",
      "arr1d[::3]: [ 0  3  6  9 12 15 18] (with step)\n",
      "\n",
      "2D Slicing\n",
      "arr2d[1:3, 0:3]:\n",
      "[[ 5  6  7]\n",
      " [10 11 12]] (rows 1-2, cols 0-2)\n",
      "\n",
      "3D Slicing\n",
      "arr3d[0, 1, 1:3]: [5 6] (elements in 1st matrix, 2nd row)\n",
      "\n",
      "Negative Slicing\n",
      "arr1d[-5:] (1D): [15 16 17 18 19]\n",
      "\n",
      "arr2d[-2:, -3:] (2D):\n",
      "[[12 13 14]\n",
      " [17 18 19]]\n",
      "\n",
      "arr3d[-1, -2:, -3:] (3D):\n",
      "[[17 18 19]\n",
      " [21 22 23]]\n",
      "\n",
      "Comparison\n",
      "1D: arr1d[-5:] ([15 16 17 18 19]) vs arr1d[15:] ([15 16 17 18 19])\n",
      "\n",
      "Negative indexing counts from the end.\n"
     ]
    }
   ],
   "source": [
    "import numpy as np\n",
    "\n",
    "\n",
    "arr1d = np.arange(20)\n",
    "arr2d = np.arange(20).reshape(4, 5) \n",
    "arr3d = np.arange(24).reshape(2, 3, 4)\n",
    "\n",
    "print(f\"1D: {arr1d}\\n2D:\\n{arr2d}\\n3D:\\n{arr3d}\\n\")\n",
    "\n",
    "\n",
    "print(\"1D Slicing \")\n",
    "print(f\"arr1d[5:12]: {arr1d[5:12]}\\n\")\n",
    "print(f\"arr1d[::3]: {arr1d[::3]} (with step)\\n\")\n",
    "\n",
    "\n",
    "print(\"2D Slicing\")\n",
    "print(f\"arr2d[1:3, 0:3]:\\n{arr2d[1:3, 0:3]} (rows 1-2, cols 0-2)\\n\")\n",
    "\n",
    "print(\"3D Slicing\")\n",
    "print(f\"arr3d[0, 1, 1:3]: {arr3d[0, 1, 1:3]} (elements in 1st matrix, 2nd row)\\n\")\n",
    "\n",
    "\n",
    "print(\"Negative Slicing\")\n",
    "print(f\"arr1d[-5:] (1D): {arr1d[-5:]}\\n\")\n",
    "print(f\"arr2d[-2:, -3:] (2D):\\n{arr2d[-2:, -3:]}\\n\")\n",
    "print(f\"arr3d[-1, -2:, -3:] (3D):\\n{arr3d[-1, -2:, -3:]}\\n\")\n",
    "\n",
    "\n",
    "print(\"Comparison\")\n",
    "print(f\"1D: arr1d[-5:] ({arr1d[-5:]}) vs arr1d[15:] ({arr1d[15:]})\\n\")\n",
    "print(\"Negative indexing counts from the end.\")\n"
   ]
  },
  {
   "cell_type": "code",
   "execution_count": 10,
   "id": "d9089214",
   "metadata": {},
   "outputs": [
    {
     "name": "stdout",
     "output_type": "stream",
     "text": [
      "[[4465 4035 4295 1396 2905 1668 3264 1034 4776 4438]\n",
      " [4867 4080 1602 4626 3565 4344 4720 4580 2772 3511]\n",
      " [4579 3126 1886 3696 1295 1207 3197 1039 2382 3225]\n",
      " [4615 3779 4206 4997 4487 4450 2094 1778 4620 2131]\n",
      " [1059 4255 3060 1550 2494 2313 3425 3497 2377 2765]]\n",
      "Total emissions for each city over the 10 years:  [19585 19275 15049 16265 14746 13982 16700 11928 16927 16070]\n",
      "[32276 38667 25632 37157 26795]\n",
      "[3227.6 3866.7 2563.2 3715.7 2679.5]\n"
     ]
    }
   ],
   "source": [
    "import numpy as np\n",
    "carbon_emissions = np.random.randint(1000,5000,size = (5,10))\n",
    "print(carbon_emissions)\n",
    "total_emissions = carbon_emissions.sum(axis = 0)\n",
    "print(\"Total emissions for each city over the 10 years: \", total_emissions)\n",
    "year_total = carbon_emissions.sum(axis = 1)\n",
    "print(year_total)\n",
    "year_total = carbon_emissions.mean(axis = 1)\n",
    "print(year_total)"
   ]
  },
  {
   "cell_type": "code",
   "execution_count": 13,
   "id": "b5a5564d",
   "metadata": {},
   "outputs": [
    {
     "name": "stdout",
     "output_type": "stream",
     "text": [
      "The Average emission of year 1 is 3227.6 kgCO2\n",
      "The Average emission of year 2 is 3866.7 kgCO2\n",
      "The Average emission of year 3 is 2563.2 kgCO2\n",
      "The Average emission of year 4 is 3715.7 kgCO2\n",
      "The Average emission of year 5 is 2679.5 kgCO2\n"
     ]
    }
   ],
   "source": [
    "y = 1\n",
    "for year in carbon_emissions:\n",
    "    year_avg = year.mean()\n",
    "    print(f\"The Average emission of year {y} is {year_avg} kgCO2\")\n",
    "    y = y + 1"
   ]
  },
  {
   "cell_type": "code",
   "execution_count": 17,
   "id": "d3ea78a6",
   "metadata": {},
   "outputs": [
    {
     "name": "stdout",
     "output_type": "stream",
     "text": [
      "Renewable Energy Percentages :\n",
      "[48 27 30 47 21 59 43 12 30 34 48 57 44 33 58 35 32 48 31 16]\n",
      "\n",
      "Overall Average Renewable Energy Percentage:\n",
      "37.65%\n",
      "\n",
      "Years with Renewable Energy Percentage Below 20%:\n",
      "Year(s): [ 8 20]\n",
      "Percentages: [12 16]\n",
      "\n",
      "Highest Renewable Energy Percentage in a Single Year:\n",
      "59.00% in Year 6\n"
     ]
    }
   ],
   "source": [
    "import numpy as np\n",
    "\n",
    "renewable_percentages = np.random.randint(10, 60, size=20)\n",
    "print(\"Renewable Energy Percentages :\")\n",
    "print(renewable_percentages)\n",
    "\n",
    "\n",
    "average_percentage = np.mean(renewable_percentages)\n",
    "print(\"\\nOverall Average Renewable Energy Percentage:\")\n",
    "print(f\"{average_percentage:.2f}%\")\n",
    "\n",
    "\n",
    "below_20_indices = np.where(renewable_percentages < 20)[0]\n",
    "print(\"\\nYears with Renewable Energy Percentage Below 20%:\")\n",
    "if below_20_indices.size > 0:\n",
    "    print(\"Year(s):\", below_20_indices + 1)  \n",
    "    print(\"Percentages:\", renewable_percentages[below_20_indices])\n",
    "else:\n",
    "    print(\"No year had renewable energy below 20%.\")\n",
    "\n",
    "\n",
    "max_percentage = np.max(renewable_percentages)\n",
    "max_year = np.argmax(renewable_percentages) + 1\n",
    "print(\"\\nHighest Renewable Energy Percentage in a Single Year:\")\n",
    "print(f\"{max_percentage:.2f}% in Year {max_year}\")\n"
   ]
  },
  {
   "cell_type": "code",
   "execution_count": 18,
   "id": "a743a878",
   "metadata": {},
   "outputs": [
    {
     "name": "stdout",
     "output_type": "stream",
     "text": [
      "[51 24 58 59 52 33 48 28 17 33 20 56 27 13 59 59 23 39 42 31]\n",
      "38.6\n",
      "(array([ 8, 13]),)\n",
      "59\n"
     ]
    }
   ],
   "source": [
    "import numpy as np\n",
    "\n",
    "ren_energy_percentage = np.random.randint(10, 60, 20)\n",
    "print(ren_energy_percentage)\n",
    "\n",
    "ren_energy_percentage_avg = np.average(ren_energy_percentage)\n",
    "print(ren_energy_percentage_avg)\n",
    "\n",
    "year = np.where(ren_energy_percentage < 20)\n",
    "print(year)\n",
    "\n",
    "highest_percentage = np.max(ren_energy_percentage)\n",
    "print(highest_percentage)"
   ]
  },
  {
   "cell_type": "code",
   "execution_count": 19,
   "id": "e2ca6043",
   "metadata": {},
   "outputs": [
    {
     "name": "stdout",
     "output_type": "stream",
     "text": [
      "[48098 35804 47563 33103 22875 48380 19765 21901 47977 46928 13603 24532\n",
      " 46592 35705 23822]\n",
      "48380\n",
      "516648\n",
      "34443.2\n"
     ]
    }
   ],
   "source": [
    "forest_area = np.random.randint(10000 ,50000,size=15)\n",
    "print(forest_area)\n",
    "highest_deforestation = np.max(forest_area)\n",
    "print(highest_deforestation)\n",
    "total_deforestation = np.sum(forest_area)\n",
    "print(total_deforestation)\n",
    "avg_deforestation = np.average(forest_area)\n",
    "print(avg_deforestation)"
   ]
  },
  {
   "cell_type": "code",
   "execution_count": 21,
   "id": "6e39108f",
   "metadata": {},
   "outputs": [
    {
     "name": "stdout",
     "output_type": "stream",
     "text": [
      "[[0.         0.18287572 0.02790624]\n",
      " [1.         1.         0.16217509]\n",
      " [0.07091813 0.80386622 1.        ]\n",
      " [0.74627156 0.         0.        ]\n",
      " [0.26949666 0.34154478 0.86323287]]\n"
     ]
    }
   ],
   "source": [
    "salary = np.random.randint(20000, 50000, size=(5, 3)) \n",
    "scaled_data = (salary - salary.min(axis = 0)) / (salary.max(axis = 0) - salary.min(axis = 0))\n",
    "print(scaled_data)"
   ]
  },
  {
   "cell_type": "code",
   "execution_count": 27,
   "id": "03b0f7a1",
   "metadata": {},
   "outputs": [
    {
     "name": "stdout",
     "output_type": "stream",
     "text": [
      "[[2139 3736 2846 2321 1753 3757]\n",
      " [3795 2798 1708 4164 2507 1466]\n",
      " [4630 1113 1184 1339 2341 3265]\n",
      " [3538 2023 3527 3249 1456 4112]\n",
      " [3132 3253 4727 3598 4778 3305]]\n",
      "[17234 12923 13992 14671 12835 15905]\n",
      "1\n",
      "1\n",
      "[[0.         1.         0.46909399 0.34761062 0.08940397 0.86583522]\n",
      " [0.66479326 0.64239421 0.14789726 1.         0.31637568 0.        ]\n",
      " [1.         0.         0.         0.         0.26640578 0.67989418]\n",
      " [0.56162184 0.346931   0.66130398 0.67610619 0.         1.        ]\n",
      " [0.39863509 0.8158597  1.         0.79964602 1.         0.69501134]]\n"
     ]
    }
   ],
   "source": [
    "# Exercise 5: Waste Management\n",
    "# You are analyzing waste generation data across 6 different sectors (e.g., Residential, Industrial, Commercial, etc.) over the last 5 years. The data is organized in a 2D NumPy array.\n",
    "# Task:\n",
    "# 1.\tCreate a 2D NumPy array of shape (5, 6), representing the waste generated (in tons) in each sector for each of the last 5 years. Populate it with random data between 1000 and 5000 tons.\n",
    "# 2.\tCalculate the total waste generated by each sector over the 5 years.\n",
    "# 3.\tIdentify the year with the highest total waste generation.\n",
    "# 4.\tFind the sector with the lowest waste generation in a specific year (e.g., Year 3).\n",
    "# 5.\tNormalize the waste data so that each sector’s waste data is scaled between 0 and 1 (using Min-Max scaling).\n",
    "import numpy as np\n",
    "\n",
    "waste_data = np.random.randint(1000, 5000, size = (5, 6))\n",
    "print(waste_data)\n",
    "\n",
    "total_waste = np.sum(waste_data, axis = 0)\n",
    "print(total_waste)\n",
    "\n",
    "year_with_highest_waste = np.argmax(total_waste) + 1\n",
    "print(year_with_highest_waste)\n",
    "\n",
    "lowest_waste_year = 3\n",
    "lowest_waste_sector = np.argmin(waste_data[lowest_waste_year - 1])\n",
    "print(lowest_waste_sector)\n",
    "\n",
    "scaled_data = (waste_data - waste_data.min(axis = 0)) / (waste_data.max(axis = 0) - waste_data.min(axis = 0))\n",
    "print(scaled_data)\n"
   ]
  },
  {
   "cell_type": "code",
   "execution_count": null,
   "id": "4d7e98f8",
   "metadata": {},
   "outputs": [],
   "source": []
  }
 ],
 "metadata": {
  "kernelspec": {
   "display_name": "Python 3",
   "language": "python",
   "name": "python3"
  },
  "language_info": {
   "codemirror_mode": {
    "name": "ipython",
    "version": 3
   },
   "file_extension": ".py",
   "mimetype": "text/x-python",
   "name": "python",
   "nbconvert_exporter": "python",
   "pygments_lexer": "ipython3",
   "version": "3.12.6"
  }
 },
 "nbformat": 4,
 "nbformat_minor": 5
}
