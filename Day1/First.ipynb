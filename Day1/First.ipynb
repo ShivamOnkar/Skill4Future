{
 "cells": [
  {
   "cell_type": "code",
   "execution_count": 15,
   "id": "d8a1302f",
   "metadata": {},
   "outputs": [
    {
     "name": "stdout",
     "output_type": "stream",
     "text": [
      "False\n"
     ]
    }
   ],
   "source": [
    "print(False)\n"
   ]
  },
  {
   "cell_type": "code",
   "execution_count": 17,
   "id": "e1065988",
   "metadata": {},
   "outputs": [
    {
     "name": "stdout",
     "output_type": "stream",
     "text": [
      "Hello world\n"
     ]
    }
   ],
   "source": [
    "print('Hello world')\n"
   ]
  },
  {
   "cell_type": "code",
   "execution_count": 4,
   "id": "209240c8",
   "metadata": {},
   "outputs": [],
   "source": [
    "##Welcome\n"
   ]
  },
  {
   "cell_type": "code",
   "execution_count": 6,
   "id": "111dba6f",
   "metadata": {},
   "outputs": [
    {
     "name": "stdout",
     "output_type": "stream",
     "text": [
      "['False', 'None', 'True', 'and', 'as', 'assert', 'async', 'await', 'break', 'class', 'continue', 'def', 'del', 'elif', 'else', 'except', 'finally', 'for', 'from', 'global', 'if', 'import', 'in', 'is', 'lambda', 'nonlocal', 'not', 'or', 'pass', 'raise', 'return', 'try', 'while', 'with', 'yield']\n"
     ]
    }
   ],
   "source": [
    "import keyword\n",
    "\n",
    "print(keyword.kwlist)\n"
   ]
  },
  {
   "cell_type": "code",
   "execution_count": 7,
   "id": "b819980c",
   "metadata": {},
   "outputs": [
    {
     "name": "stdout",
     "output_type": "stream",
     "text": [
      "Amravati 25 357.25\n"
     ]
    }
   ],
   "source": [
    "city = \"Amravati\"\n",
    "temp = 25\n",
    "cardon_footprints = 357.25\n",
    "print(city,temp,cardon_footprints)"
   ]
  },
  {
   "cell_type": "code",
   "execution_count": 9,
   "id": "5a156c29",
   "metadata": {},
   "outputs": [
    {
     "name": "stdout",
     "output_type": "stream",
     "text": [
      "23 25 22\n"
     ]
    }
   ],
   "source": [
    "t1,t2,t3 = 23, 25 , 22\n",
    "print(t1,t2,t3)"
   ]
  },
  {
   "cell_type": "code",
   "execution_count": 2,
   "id": "15a021fa",
   "metadata": {},
   "outputs": [
    {
     "name": "stdout",
     "output_type": "stream",
     "text": [
      "2345\n"
     ]
    },
    {
     "data": {
      "text/plain": [
       "int"
      ]
     },
     "execution_count": 2,
     "metadata": {},
     "output_type": "execute_result"
    }
   ],
   "source": [
    "t1 = int((2345))\n",
    "print(t1)\n",
    "type(t1)"
   ]
  },
  {
   "cell_type": "code",
   "execution_count": 3,
   "id": "133857a2",
   "metadata": {},
   "outputs": [
    {
     "name": "stdout",
     "output_type": "stream",
     "text": [
      "(2+3j)\n"
     ]
    },
    {
     "data": {
      "text/plain": [
       "complex"
      ]
     },
     "execution_count": 3,
     "metadata": {},
     "output_type": "execute_result"
    }
   ],
   "source": [
    "# Number datatype\n",
    "complex_number = 2 + 3j\n",
    "print(complex_number)\n",
    "type(complex_number)"
   ]
  },
  {
   "cell_type": "code",
   "execution_count": 5,
   "id": "3d2dc3d7",
   "metadata": {},
   "outputs": [
    {
     "name": "stdout",
     "output_type": "stream",
     "text": [
      "the addition of 56.76 and 45.87 is: 102.63\n"
     ]
    }
   ],
   "source": [
    "t1 = float(input(\"Enter the city1 temp : \"))\n",
    "t2 = float(input(\"Enter the city2 temp : \"))\n",
    "temp1 = round(t1,2)\n",
    "temp2 = round(t2,2)\n",
    "print(f\"the addition of {temp1} and {temp2} is: { temp1+ temp2}\")"
   ]
  },
  {
   "cell_type": "code",
   "execution_count": 10,
   "id": "cf9ca80a",
   "metadata": {},
   "outputs": [
    {
     "data": {
      "text/plain": [
       "'elbaniatsus si itavarma ytic eht'"
      ]
     },
     "execution_count": 10,
     "metadata": {},
     "output_type": "execute_result"
    }
   ],
   "source": [
    "#sequence data type\n",
    "#String \n",
    "sustainable_info = \"the city amravati is sustainable\"\n",
    "sustainable_info[-1]\n",
    "sustainable_info[5:8]\n",
    "sustainable_info[2:12:2]  #from 2 upto 12 and jump by 2\n",
    "sustainable_info[::-1]  #reverese the string"
   ]
  },
  {
   "cell_type": "code",
   "execution_count": 11,
   "id": "bdf68a32",
   "metadata": {},
   "outputs": [
    {
     "data": {
      "text/plain": [
       "32"
      ]
     },
     "execution_count": 11,
     "metadata": {},
     "output_type": "execute_result"
    }
   ],
   "source": [
    "len(sustainable_info)"
   ]
  },
  {
   "cell_type": "code",
   "execution_count": 12,
   "id": "d6ff37db",
   "metadata": {},
   "outputs": [
    {
     "data": {
      "text/plain": [
       "['the', 'city', 'amravati', 'is', 'sustainable']"
      ]
     },
     "execution_count": 12,
     "metadata": {},
     "output_type": "execute_result"
    }
   ],
   "source": [
    "sustainable_info.split()\n"
   ]
  },
  {
   "cell_type": "code",
   "execution_count": 13,
   "id": "02e8988c",
   "metadata": {},
   "outputs": [
    {
     "data": {
      "text/plain": [
       "'hello'"
      ]
     },
     "execution_count": 13,
     "metadata": {},
     "output_type": "execute_result"
    }
   ],
   "source": [
    "t1 = \"     hello\"\n",
    "t1.lstrip()"
   ]
  },
  {
   "cell_type": "code",
   "execution_count": 2,
   "id": "a8166d42",
   "metadata": {},
   "outputs": [
    {
     "name": "stdout",
     "output_type": "stream",
     "text": [
      "['nagpur', 'jaipur', 'mumbai', 'amravati', 'akola', 'aaa']\n"
     ]
    }
   ],
   "source": [
    "cities1 = [\"nagpur\",\"jaipur\",\"mumbai\"]\n",
    "cities2 = [\"amravati\",\"akola\"]\n",
    "ciites3 = \"aaa\"\n",
    "cities1.extend(cities2)\n",
    "cities1.append(ciites3)\n",
    "print(cities1)"
   ]
  },
  {
   "cell_type": "code",
   "execution_count": 4,
   "id": "221ea9c3",
   "metadata": {},
   "outputs": [
    {
     "name": "stdout",
     "output_type": "stream",
     "text": [
      "['Goa', 'Goa', 'nagpur', 'jaipur', 'mumbai', 'amravati', 'akola', 'aaa']\n"
     ]
    }
   ],
   "source": [
    "cities1.insert(0,\"Goa\")\n",
    "print(cities1)"
   ]
  },
  {
   "cell_type": "code",
   "execution_count": null,
   "id": "6142dd47",
   "metadata": {},
   "outputs": [
    {
     "name": "stdout",
     "output_type": "stream",
     "text": [
      "The new city is inserted at 2 is pune\n",
      "updated list is ['Goa', 'Goa', 'pune', 'nagpur', 'jaipur', 'mumbai', 'amravati', 'akola', 'aaa']\n"
     ]
    }
   ],
   "source": [
    "pos = int(input(\"Enter the position to insert new city :\"))\n",
    "city = input(f\"Enter the city name you want to insert at {pos} position : \")\n",
    "cities1.insert(pos,city)\n",
    "print(f\"The new city is inserted at {pos} is {city}\")\n",
    "print(f\"updated list is {cities1}\")"
   ]
  },
  {
   "cell_type": "code",
   "execution_count": null,
   "id": "399959a8",
   "metadata": {},
   "outputs": [
    {
     "name": "stdout",
     "output_type": "stream",
     "text": [
      "('MAH', 'AP', 'GA', 'KEL', 'TS', 'PUN')\n"
     ]
    },
    {
     "data": {
      "text/plain": [
       "tuple"
      ]
     },
     "execution_count": 6,
     "metadata": {},
     "output_type": "execute_result"
    }
   ],
   "source": [
    "#tuple\n",
    "state = (\"MAH\", \"AP\",\"GA\",\"KEL\",\"TS\",\"PUN\")\n",
    "print(state)\n",
    "type(state) # We can't change th tuple"
   ]
  },
  {
   "cell_type": "code",
   "execution_count": 7,
   "id": "52322252",
   "metadata": {},
   "outputs": [
    {
     "data": {
      "text/plain": [
       "['__add__',\n",
       " '__class__',\n",
       " '__class_getitem__',\n",
       " '__contains__',\n",
       " '__delattr__',\n",
       " '__dir__',\n",
       " '__doc__',\n",
       " '__eq__',\n",
       " '__format__',\n",
       " '__ge__',\n",
       " '__getattribute__',\n",
       " '__getitem__',\n",
       " '__getnewargs__',\n",
       " '__getstate__',\n",
       " '__gt__',\n",
       " '__hash__',\n",
       " '__init__',\n",
       " '__init_subclass__',\n",
       " '__iter__',\n",
       " '__le__',\n",
       " '__len__',\n",
       " '__lt__',\n",
       " '__mul__',\n",
       " '__ne__',\n",
       " '__new__',\n",
       " '__reduce__',\n",
       " '__reduce_ex__',\n",
       " '__repr__',\n",
       " '__rmul__',\n",
       " '__setattr__',\n",
       " '__sizeof__',\n",
       " '__str__',\n",
       " '__subclasshook__',\n",
       " 'count',\n",
       " 'index']"
      ]
     },
     "execution_count": 7,
     "metadata": {},
     "output_type": "execute_result"
    }
   ],
   "source": [
    "dir(tuple)"
   ]
  },
  {
   "cell_type": "code",
   "execution_count": 8,
   "id": "cc38c4f4",
   "metadata": {},
   "outputs": [
    {
     "name": "stdout",
     "output_type": "stream",
     "text": [
      "the updated tuple is : ('MAH', 'AP', 'RJ', 'KEL', 'TS', 'PUN')\n"
     ]
    }
   ],
   "source": [
    "state_list = list(state)\n",
    "state_list[2] = \"RJ\"\n",
    "state_tup = tuple(state_list)\n",
    "print(f\"the updated tuple is : {state_tup}\")\n"
   ]
  },
  {
   "cell_type": "code",
   "execution_count": 10,
   "id": "559d04da",
   "metadata": {},
   "outputs": [
    {
     "name": "stdout",
     "output_type": "stream",
     "text": [
      "{'city': 'nagpur', 'temp': 25, 'carbon_footprint': 375.25, 'is_sustainable': True}\n"
     ]
    },
    {
     "data": {
      "text/plain": [
       "dict"
      ]
     },
     "execution_count": 10,
     "metadata": {},
     "output_type": "execute_result"
    }
   ],
   "source": [
    "#Dictionary datatype\n",
    "city_data = {\n",
    "    \"city\" : \"nagpur\",\n",
    "    \"temp\" : 25,\n",
    "    \"carbon_footprint\" : 375.25,\n",
    "    \"is_sustainable\" : True\n",
    "}\n",
    "print(city_data)\n",
    "type(city_data)"
   ]
  },
  {
   "cell_type": "code",
   "execution_count": 11,
   "id": "dfb2c6f8",
   "metadata": {},
   "outputs": [
    {
     "name": "stdout",
     "output_type": "stream",
     "text": [
      "{'city': ['nagpur', 'Delhi', 'mumbai'], 'temp': [25, 30, 28], 'carbon_footprint': [375.25, 500, 475], 'is_sustainable': [True, False, False]}\n"
     ]
    },
    {
     "data": {
      "text/plain": [
       "dict"
      ]
     },
     "execution_count": 11,
     "metadata": {},
     "output_type": "execute_result"
    }
   ],
   "source": [
    "#Dictionary datatype\n",
    "city_data = {\n",
    "    \"city\" : [\"nagpur\",\"Delhi\",\"mumbai\"],\n",
    "    \"temp\" : [25,30,28],\n",
    "    \"carbon_footprint\" : [375.25,500,475],\n",
    "    \"is_sustainable\" : [True,False,False]\n",
    "}\n",
    "print(city_data)\n",
    "type(city_data)"
   ]
  },
  {
   "cell_type": "code",
   "execution_count": 14,
   "id": "760d7ead",
   "metadata": {},
   "outputs": [
    {
     "data": {
      "text/plain": [
       "83"
      ]
     },
     "execution_count": 14,
     "metadata": {},
     "output_type": "execute_result"
    }
   ],
   "source": [
    "sum(city_data['temp'])"
   ]
  },
  {
   "cell_type": "code",
   "execution_count": 18,
   "id": "a3bff15d",
   "metadata": {},
   "outputs": [
    {
     "name": "stdout",
     "output_type": "stream",
     "text": [
      "Average Carbon Footprint: 450.08\n"
     ]
    }
   ],
   "source": [
    "carbon_values = city_data[\"carbon_footprint\"]\n",
    "average = sum(carbon_values) / len(carbon_values)\n",
    "temp = round(average,2)\n",
    "print(\"Average Carbon Footprint:\", temp)"
   ]
  },
  {
   "cell_type": "code",
   "execution_count": 20,
   "id": "7556c6f0",
   "metadata": {},
   "outputs": [
    {
     "name": "stdout",
     "output_type": "stream",
     "text": [
      "Average Temperature: 27.67\n"
     ]
    }
   ],
   "source": [
    "temp_values = city_data[\"temp\"]\n",
    "average_temp = sum(temp_values) / len(temp_values)\n",
    "print(f\"Average Temperature: {average_temp:.2f}\")\n",
    "\n"
   ]
  },
  {
   "cell_type": "code",
   "execution_count": 21,
   "id": "b846e815",
   "metadata": {},
   "outputs": [
    {
     "name": "stdout",
     "output_type": "stream",
     "text": [
      "{1, 2, 3, 4, 5, 6, 7}\n"
     ]
    },
    {
     "data": {
      "text/plain": [
       "set"
      ]
     },
     "execution_count": 21,
     "metadata": {},
     "output_type": "execute_result"
    }
   ],
   "source": [
    "my_set = {1,2,3,4,5,6,7}\n",
    "print(my_set)\n",
    "type(my_set)\n"
   ]
  },
  {
   "cell_type": "code",
   "execution_count": 26,
   "id": "f3c58432",
   "metadata": {},
   "outputs": [
    {
     "name": "stdout",
     "output_type": "stream",
     "text": [
      "set()\n"
     ]
    },
    {
     "data": {
      "text/plain": [
       "set"
      ]
     },
     "execution_count": 26,
     "metadata": {},
     "output_type": "execute_result"
    }
   ],
   "source": [
    "new_set = set()\n",
    "\n",
    "print(new_set)\n",
    "type(new_set)\n"
   ]
  },
  {
   "cell_type": "code",
   "execution_count": 28,
   "id": "073305e5",
   "metadata": {},
   "outputs": [
    {
     "name": "stdout",
     "output_type": "stream",
     "text": [
      "outside if block\n"
     ]
    }
   ],
   "source": [
    "#if conditions\n",
    "cf = 675.25\n",
    "if cf < 500 :\n",
    "    print(\"City is sustainable\")\n",
    "    print(\"inside If block\")\n",
    "print(\"outside if block\")    "
   ]
  },
  {
   "cell_type": "code",
   "execution_count": 1,
   "id": "9fe13f23",
   "metadata": {},
   "outputs": [
    {
     "name": "stdout",
     "output_type": "stream",
     "text": [
      "You can recycle the plastic\n",
      "Thank you\n"
     ]
    }
   ],
   "source": [
    "waste_type = input(\"Enter your waste type(plastic/organic/electronic): \")\n",
    "if waste_type == 'plastic':\n",
    "    print(\"You can recycle the plastic\")\n",
    "elif waste_type == \"organic\":\n",
    "    print(\"You can create compost of it\")\n",
    "elif waste_type == \"electronic\":\n",
    "    print(\"Deposit it to nearest collection center\")\n",
    "else:\n",
    "    print(\"Kindly enter valid waste type....\")\n",
    "print(\"Thank you\")"
   ]
  },
  {
   "cell_type": "code",
   "execution_count": 2,
   "id": "11ad9c94",
   "metadata": {},
   "outputs": [
    {
     "name": "stdout",
     "output_type": "stream",
     "text": [
      "Sustanability need improvement\n"
     ]
    }
   ],
   "source": [
    "energy_cons=float(input(\" Enter Energy Consumption(kwh): \"))\n",
    "recycle_rate=int(input(\"Enter recycling rate: \"))\n",
    "emmision_level=int(input(\"Enter emission level: \"))\n",
    "if energy_cons<1000:\n",
    "    if recycle_rate>50:\n",
    "        if emmision_level<20:\n",
    "            print(\"Sustanability is excellent\")\n",
    "        else:\n",
    "            print(\"Reduce emmision level\")\n",
    "    else:\n",
    "        print(\"Sustanability need improvement\")\n",
    "else:\n",
    "    print(\"Need sustainable improvements\")\n",
    "    "
   ]
  },
  {
   "cell_type": "code",
   "execution_count": 4,
   "id": "65052184",
   "metadata": {},
   "outputs": [
    {
     "name": "stdout",
     "output_type": "stream",
     "text": [
      "S u s t a n i b i l i t y "
     ]
    }
   ],
   "source": [
    "#Definite Loop : for loop\n",
    "s1 = \"Sustanibility\"\n",
    "for char in s1:\n",
    "    print(char,end = ' ')"
   ]
  },
  {
   "cell_type": "code",
   "execution_count": 7,
   "id": "160402dd",
   "metadata": {},
   "outputs": [
    {
     "name": "stdout",
     "output_type": "stream",
     "text": [
      "26\n"
     ]
    }
   ],
   "source": [
    "temp = [23,30,25,28,27,31,26]\n",
    "for day in temp :\n",
    "    if day == 26 :\n",
    "        print(day)"
   ]
  },
  {
   "cell_type": "code",
   "execution_count": 10,
   "id": "1436f67f",
   "metadata": {},
   "outputs": [
    {
     "name": "stdout",
     "output_type": "stream",
     "text": [
      "190\n",
      "7\n",
      "27.142857142857142\n"
     ]
    }
   ],
   "source": [
    "total = 0\n",
    "count = 0\n",
    "for day in temp :\n",
    "    total = total + day\n",
    "    count = count +1\n",
    "print(total)\n",
    "print(count)\n",
    "print(total/count)"
   ]
  },
  {
   "cell_type": "code",
   "execution_count": 11,
   "id": "cd616e8e",
   "metadata": {},
   "outputs": [
    {
     "name": "stdout",
     "output_type": "stream",
     "text": [
      "You have entered: hjwh\n",
      "You have entered: wok\n",
      "You have entered: jwi\n",
      "You have entered: quit\n",
      "Quitting....\n",
      "Thank you....!\n"
     ]
    }
   ],
   "source": [
    "user_input = ''\n",
    "while user_input != 'quit' :\n",
    "    user_input = input(\"Enter something display or quit\")\n",
    "    print(f\"You have entered: {user_input}\")\n",
    "print(\"Quitting....\")\n",
    "print(\"Thank you....!\")\n"
   ]
  },
  {
   "cell_type": "code",
   "execution_count": 13,
   "id": "1ee7bd36",
   "metadata": {},
   "outputs": [
    {
     "name": "stdout",
     "output_type": "stream",
     "text": [
      "0\n",
      "1\n",
      "2\n",
      "3\n",
      "4\n",
      "5\n",
      "6\n",
      "7\n",
      "8\n",
      "9\n",
      "1\n",
      "3\n",
      "5\n",
      "7\n",
      "9\n",
      "11\n",
      "13\n",
      "15\n",
      "17\n",
      "19\n",
      "21\n",
      "23\n",
      "25\n",
      "27\n",
      "29\n",
      "31\n",
      "33\n",
      "35\n",
      "37\n",
      "39\n",
      "41\n",
      "43\n",
      "45\n",
      "47\n",
      "49\n"
     ]
    }
   ],
   "source": [
    "for num in range(10):\n",
    "    print(num)\n",
    "\n",
    "for num in range(1,51,2):\n",
    "    print(num)\n"
   ]
  },
  {
   "cell_type": "code",
   "execution_count": 2,
   "id": "dd9afec9",
   "metadata": {},
   "outputs": [
    {
     "name": "stdout",
     "output_type": "stream",
     "text": [
      "55\n"
     ]
    }
   ],
   "source": [
    "n = int(input(\"Enter the number:\"))\n",
    "total = 0\n",
    "for num in range(1,n+1) :\n",
    "    total += num\n",
    "print(total)"
   ]
  },
  {
   "cell_type": "code",
   "execution_count": 5,
   "id": "45784e9e",
   "metadata": {},
   "outputs": [
    {
     "name": "stdout",
     "output_type": "stream",
     "text": [
      "30\n"
     ]
    }
   ],
   "source": [
    "def add() :\n",
    "    a=10\n",
    "    b=20\n",
    "    c=a+b\n",
    "    return c\n",
    "print(add())\n",
    "    "
   ]
  },
  {
   "cell_type": "code",
   "execution_count": 6,
   "id": "00388f14",
   "metadata": {},
   "outputs": [
    {
     "data": {
      "text/plain": [
       "60"
      ]
     },
     "execution_count": 6,
     "metadata": {},
     "output_type": "execute_result"
    }
   ],
   "source": [
    "def addThree(a,b,c):\n",
    "    total = a + b + c\n",
    "    return total\n",
    "addThree(10,20,30)"
   ]
  },
  {
   "cell_type": "code",
   "execution_count": 7,
   "id": "adfc46de",
   "metadata": {},
   "outputs": [
    {
     "name": "stdout",
     "output_type": "stream",
     "text": [
      "Welcome Raj you are 25 year old\n"
     ]
    }
   ],
   "source": [
    "def greet(name,age):\n",
    "    print(f\"Welcome {name} you are {age} year old\")\n",
    "greet(age = 25,name = \"Raj\")"
   ]
  },
  {
   "cell_type": "code",
   "execution_count": 8,
   "id": "a5896515",
   "metadata": {},
   "outputs": [
    {
     "data": {
      "text/plain": [
       "27"
      ]
     },
     "execution_count": 8,
     "metadata": {},
     "output_type": "execute_result"
    }
   ],
   "source": [
    "def addn(*numbers):\n",
    "    tot =0\n",
    "    for num in numbers:\n",
    "        tot += num\n",
    "    return tot\n",
    "addn(10,2,10,5)\n"
   ]
  },
  {
   "cell_type": "code",
   "execution_count": 1,
   "id": "ceb10cc9",
   "metadata": {},
   "outputs": [
    {
     "name": "stdout",
     "output_type": "stream",
     "text": [
      "CSE_building\n"
     ]
    }
   ],
   "source": [
    "class Building :\n",
    "    pass\n",
    "b1 = Building()\n",
    "b1.name = \"CSE_building\"\n",
    "b1.energy_cons = 1500\n",
    "\n",
    "print(b1.name)"
   ]
  },
  {
   "cell_type": "code",
   "execution_count": 2,
   "id": "62bb65fe",
   "metadata": {},
   "outputs": [
    {
     "name": "stdout",
     "output_type": "stream",
     "text": [
      "CSE\n"
     ]
    }
   ],
   "source": [
    "class Building :\n",
    "    def __init__(self,name,energy_cons):\n",
    "        self.name = name\n",
    "        self.energy_cons = energy_cons\n",
    "\n",
    "b1 = Building(\"CSE\",1200)\n",
    "b2 = Building(\"ETC\",1100)\n",
    "\n",
    "print(b1.name)"
   ]
  },
  {
   "cell_type": "code",
   "execution_count": 7,
   "id": "2b85f659",
   "metadata": {},
   "outputs": [
    {
     "data": {
      "text/plain": [
       "636.0"
      ]
     },
     "execution_count": 7,
     "metadata": {},
     "output_type": "execute_result"
    }
   ],
   "source": [
    "class Building :\n",
    "    def __init__(self,name,energy_cons):\n",
    "        self.name = name\n",
    "        self.energy_cons = energy_cons\n",
    "    \n",
    "    def calculate_carbon_footprints(self):\n",
    "        return self.energy_cons * 0.53\n",
    "b1 = Building(\"CSE\",1200)\n",
    "b2 = Building(\"ETC\",1100)\n",
    "b1.calculate_carbon_footprints()"
   ]
  },
  {
   "cell_type": "code",
   "execution_count": null,
   "id": "2b0866f7",
   "metadata": {},
   "outputs": [],
   "source": []
  }
 ],
 "metadata": {
  "kernelspec": {
   "display_name": "Python 3",
   "language": "python",
   "name": "python3"
  },
  "language_info": {
   "codemirror_mode": {
    "name": "ipython",
    "version": 3
   },
   "file_extension": ".py",
   "mimetype": "text/x-python",
   "name": "python",
   "nbconvert_exporter": "python",
   "pygments_lexer": "ipython3",
   "version": "3.12.6"
  }
 },
 "nbformat": 4,
 "nbformat_minor": 5
}
