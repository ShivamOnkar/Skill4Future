{
 "cells": [
  {
   "cell_type": "code",
   "execution_count": 15,
   "id": "d8a1302f",
   "metadata": {},
   "outputs": [
    {
     "name": "stdout",
     "output_type": "stream",
     "text": [
      "False\n"
     ]
    }
   ],
   "source": [
    "print(False)\n"
   ]
  },
  {
   "cell_type": "code",
   "execution_count": 17,
   "id": "e1065988",
   "metadata": {},
   "outputs": [
    {
     "name": "stdout",
     "output_type": "stream",
     "text": [
      "Hello world\n"
     ]
    }
   ],
   "source": [
    "print('Hello world')\n"
   ]
  },
  {
   "cell_type": "code",
   "execution_count": 4,
   "id": "209240c8",
   "metadata": {},
   "outputs": [],
   "source": [
    "##Welcome\n"
   ]
  },
  {
   "cell_type": "code",
   "execution_count": 6,
   "id": "111dba6f",
   "metadata": {},
   "outputs": [
    {
     "name": "stdout",
     "output_type": "stream",
     "text": [
      "['False', 'None', 'True', 'and', 'as', 'assert', 'async', 'await', 'break', 'class', 'continue', 'def', 'del', 'elif', 'else', 'except', 'finally', 'for', 'from', 'global', 'if', 'import', 'in', 'is', 'lambda', 'nonlocal', 'not', 'or', 'pass', 'raise', 'return', 'try', 'while', 'with', 'yield']\n"
     ]
    }
   ],
   "source": [
    "import keyword\n",
    "\n",
    "print(keyword.kwlist)\n"
   ]
  },
  {
   "cell_type": "code",
   "execution_count": 7,
   "id": "b819980c",
   "metadata": {},
   "outputs": [
    {
     "name": "stdout",
     "output_type": "stream",
     "text": [
      "Amravati 25 357.25\n"
     ]
    }
   ],
   "source": [
    "city = \"Amravati\"\n",
    "temp = 25\n",
    "cardon_footprints = 357.25\n",
    "print(city,temp,cardon_footprints)"
   ]
  },
  {
   "cell_type": "code",
   "execution_count": 9,
   "id": "5a156c29",
   "metadata": {},
   "outputs": [
    {
     "name": "stdout",
     "output_type": "stream",
     "text": [
      "23 25 22\n"
     ]
    }
   ],
   "source": [
    "t1,t2,t3 = 23, 25 , 22\n",
    "print(t1,t2,t3)"
   ]
  },
  {
   "cell_type": "code",
   "execution_count": 2,
   "id": "15a021fa",
   "metadata": {},
   "outputs": [
    {
     "name": "stdout",
     "output_type": "stream",
     "text": [
      "2345\n"
     ]
    },
    {
     "data": {
      "text/plain": [
       "int"
      ]
     },
     "execution_count": 2,
     "metadata": {},
     "output_type": "execute_result"
    }
   ],
   "source": [
    "t1 = int((2345))\n",
    "print(t1)\n",
    "type(t1)"
   ]
  },
  {
   "cell_type": "code",
   "execution_count": 3,
   "id": "133857a2",
   "metadata": {},
   "outputs": [
    {
     "name": "stdout",
     "output_type": "stream",
     "text": [
      "(2+3j)\n"
     ]
    },
    {
     "data": {
      "text/plain": [
       "complex"
      ]
     },
     "execution_count": 3,
     "metadata": {},
     "output_type": "execute_result"
    }
   ],
   "source": [
    "# Number datatype\n",
    "complex_number = 2 + 3j\n",
    "print(complex_number)\n",
    "type(complex_number)"
   ]
  },
  {
   "cell_type": "code",
   "execution_count": 5,
   "id": "3d2dc3d7",
   "metadata": {},
   "outputs": [
    {
     "name": "stdout",
     "output_type": "stream",
     "text": [
      "the addition of 56.76 and 45.87 is: 102.63\n"
     ]
    }
   ],
   "source": [
    "t1 = float(input(\"Enter the city1 temp : \"))\n",
    "t2 = float(input(\"Enter the city2 temp : \"))\n",
    "temp1 = round(t1,2)\n",
    "temp2 = round(t2,2)\n",
    "print(f\"the addition of {temp1} and {temp2} is: { temp1+ temp2}\")"
   ]
  },
  {
   "cell_type": "code",
   "execution_count": 10,
   "id": "cf9ca80a",
   "metadata": {},
   "outputs": [
    {
     "data": {
      "text/plain": [
       "'elbaniatsus si itavarma ytic eht'"
      ]
     },
     "execution_count": 10,
     "metadata": {},
     "output_type": "execute_result"
    }
   ],
   "source": [
    "#sequence data type\n",
    "#String \n",
    "sustainable_info = \"the city amravati is sustainable\"\n",
    "sustainable_info[-1]\n",
    "sustainable_info[5:8]\n",
    "sustainable_info[2:12:2]  #from 2 upto 12 and jump by 2\n",
    "sustainable_info[::-1]  #reverese the string"
   ]
  },
  {
   "cell_type": "code",
   "execution_count": 11,
   "id": "bdf68a32",
   "metadata": {},
   "outputs": [
    {
     "data": {
      "text/plain": [
       "32"
      ]
     },
     "execution_count": 11,
     "metadata": {},
     "output_type": "execute_result"
    }
   ],
   "source": [
    "len(sustainable_info)"
   ]
  },
  {
   "cell_type": "code",
   "execution_count": 12,
   "id": "d6ff37db",
   "metadata": {},
   "outputs": [
    {
     "data": {
      "text/plain": [
       "['the', 'city', 'amravati', 'is', 'sustainable']"
      ]
     },
     "execution_count": 12,
     "metadata": {},
     "output_type": "execute_result"
    }
   ],
   "source": [
    "sustainable_info.split()\n"
   ]
  },
  {
   "cell_type": "code",
   "execution_count": 13,
   "id": "02e8988c",
   "metadata": {},
   "outputs": [
    {
     "data": {
      "text/plain": [
       "'hello'"
      ]
     },
     "execution_count": 13,
     "metadata": {},
     "output_type": "execute_result"
    }
   ],
   "source": [
    "t1 = \"     hello\"\n",
    "t1.lstrip()"
   ]
  },
  {
   "cell_type": "code",
   "execution_count": 2,
   "id": "a8166d42",
   "metadata": {},
   "outputs": [
    {
     "name": "stdout",
     "output_type": "stream",
     "text": [
      "['nagpur', 'jaipur', 'mumbai', 'amravati', 'akola', 'aaa']\n"
     ]
    }
   ],
   "source": [
    "cities1 = [\"nagpur\",\"jaipur\",\"mumbai\"]\n",
    "cities2 = [\"amravati\",\"akola\"]\n",
    "ciites3 = \"aaa\"\n",
    "cities1.extend(cities2)\n",
    "cities1.append(ciites3)\n",
    "print(cities1)"
   ]
  },
  {
   "cell_type": "code",
   "execution_count": 4,
   "id": "221ea9c3",
   "metadata": {},
   "outputs": [
    {
     "name": "stdout",
     "output_type": "stream",
     "text": [
      "['Goa', 'Goa', 'nagpur', 'jaipur', 'mumbai', 'amravati', 'akola', 'aaa']\n"
     ]
    }
   ],
   "source": [
    "cities1.insert(0,\"Goa\")\n",
    "print(cities1)"
   ]
  },
  {
   "cell_type": "code",
   "execution_count": null,
   "id": "6142dd47",
   "metadata": {},
   "outputs": [
    {
     "name": "stdout",
     "output_type": "stream",
     "text": [
      "The new city is inserted at 2 is pune\n",
      "updated list is ['Goa', 'Goa', 'pune', 'nagpur', 'jaipur', 'mumbai', 'amravati', 'akola', 'aaa']\n"
     ]
    }
   ],
   "source": [
    "pos = int(input(\"Enter the position to insert new city :\"))\n",
    "city = input(f\"Enter the city name you want to insert at {pos} position : \")\n",
    "cities1.insert(pos,city)\n",
    "print(f\"The new city is inserted at {pos} is {city}\")\n",
    "print(f\"updated list is {cities1}\")"
   ]
  },
  {
   "cell_type": "code",
   "execution_count": null,
   "id": "399959a8",
   "metadata": {},
   "outputs": [
    {
     "name": "stdout",
     "output_type": "stream",
     "text": [
      "('MAH', 'AP', 'GA', 'KEL', 'TS', 'PUN')\n"
     ]
    },
    {
     "data": {
      "text/plain": [
       "tuple"
      ]
     },
     "execution_count": 6,
     "metadata": {},
     "output_type": "execute_result"
    }
   ],
   "source": [
    "#tuple\n",
    "state = (\"MAH\", \"AP\",\"GA\",\"KEL\",\"TS\",\"PUN\")\n",
    "print(state)\n",
    "type(state) # We can't change th tuple"
   ]
  },
  {
   "cell_type": "code",
   "execution_count": 7,
   "id": "52322252",
   "metadata": {},
   "outputs": [
    {
     "data": {
      "text/plain": [
       "['__add__',\n",
       " '__class__',\n",
       " '__class_getitem__',\n",
       " '__contains__',\n",
       " '__delattr__',\n",
       " '__dir__',\n",
       " '__doc__',\n",
       " '__eq__',\n",
       " '__format__',\n",
       " '__ge__',\n",
       " '__getattribute__',\n",
       " '__getitem__',\n",
       " '__getnewargs__',\n",
       " '__getstate__',\n",
       " '__gt__',\n",
       " '__hash__',\n",
       " '__init__',\n",
       " '__init_subclass__',\n",
       " '__iter__',\n",
       " '__le__',\n",
       " '__len__',\n",
       " '__lt__',\n",
       " '__mul__',\n",
       " '__ne__',\n",
       " '__new__',\n",
       " '__reduce__',\n",
       " '__reduce_ex__',\n",
       " '__repr__',\n",
       " '__rmul__',\n",
       " '__setattr__',\n",
       " '__sizeof__',\n",
       " '__str__',\n",
       " '__subclasshook__',\n",
       " 'count',\n",
       " 'index']"
      ]
     },
     "execution_count": 7,
     "metadata": {},
     "output_type": "execute_result"
    }
   ],
   "source": [
    "dir(tuple)"
   ]
  },
  {
   "cell_type": "code",
   "execution_count": 8,
   "id": "cc38c4f4",
   "metadata": {},
   "outputs": [
    {
     "name": "stdout",
     "output_type": "stream",
     "text": [
      "the updated tuple is : ('MAH', 'AP', 'RJ', 'KEL', 'TS', 'PUN')\n"
     ]
    }
   ],
   "source": [
    "state_list = list(state)\n",
    "state_list[2] = \"RJ\"\n",
    "state_tup = tuple(state_list)\n",
    "print(f\"the updated tuple is : {state_tup}\")\n"
   ]
  },
  {
   "cell_type": "code",
   "execution_count": 10,
   "id": "559d04da",
   "metadata": {},
   "outputs": [
    {
     "name": "stdout",
     "output_type": "stream",
     "text": [
      "{'city': 'nagpur', 'temp': 25, 'carbon_footprint': 375.25, 'is_sustainable': True}\n"
     ]
    },
    {
     "data": {
      "text/plain": [
       "dict"
      ]
     },
     "execution_count": 10,
     "metadata": {},
     "output_type": "execute_result"
    }
   ],
   "source": [
    "#Dictionary datatype\n",
    "city_data = {\n",
    "    \"city\" : \"nagpur\",\n",
    "    \"temp\" : 25,\n",
    "    \"carbon_footprint\" : 375.25,\n",
    "    \"is_sustainable\" : True\n",
    "}\n",
    "print(city_data)\n",
    "type(city_data)"
   ]
  },
  {
   "cell_type": "code",
   "execution_count": 11,
   "id": "dfb2c6f8",
   "metadata": {},
   "outputs": [
    {
     "name": "stdout",
     "output_type": "stream",
     "text": [
      "{'city': ['nagpur', 'Delhi', 'mumbai'], 'temp': [25, 30, 28], 'carbon_footprint': [375.25, 500, 475], 'is_sustainable': [True, False, False]}\n"
     ]
    },
    {
     "data": {
      "text/plain": [
       "dict"
      ]
     },
     "execution_count": 11,
     "metadata": {},
     "output_type": "execute_result"
    }
   ],
   "source": [
    "#Dictionary datatype\n",
    "city_data = {\n",
    "    \"city\" : [\"nagpur\",\"Delhi\",\"mumbai\"],\n",
    "    \"temp\" : [25,30,28],\n",
    "    \"carbon_footprint\" : [375.25,500,475],\n",
    "    \"is_sustainable\" : [True,False,False]\n",
    "}\n",
    "print(city_data)\n",
    "type(city_data)"
   ]
  },
  {
   "cell_type": "code",
   "execution_count": 14,
   "id": "760d7ead",
   "metadata": {},
   "outputs": [
    {
     "data": {
      "text/plain": [
       "83"
      ]
     },
     "execution_count": 14,
     "metadata": {},
     "output_type": "execute_result"
    }
   ],
   "source": [
    "sum(city_data['temp'])"
   ]
  },
  {
   "cell_type": "code",
   "execution_count": 18,
   "id": "a3bff15d",
   "metadata": {},
   "outputs": [
    {
     "name": "stdout",
     "output_type": "stream",
     "text": [
      "Average Carbon Footprint: 450.08\n"
     ]
    }
   ],
   "source": [
    "carbon_values = city_data[\"carbon_footprint\"]\n",
    "average = sum(carbon_values) / len(carbon_values)\n",
    "temp = round(average,2)\n",
    "print(\"Average Carbon Footprint:\", temp)"
   ]
  },
  {
   "cell_type": "code",
   "execution_count": 20,
   "id": "7556c6f0",
   "metadata": {},
   "outputs": [
    {
     "name": "stdout",
     "output_type": "stream",
     "text": [
      "Average Temperature: 27.67\n"
     ]
    }
   ],
   "source": [
    "temp_values = city_data[\"temp\"]\n",
    "average_temp = sum(temp_values) / len(temp_values)\n",
    "print(f\"Average Temperature: {average_temp:.2f}\")\n",
    "\n"
   ]
  },
  {
   "cell_type": "code",
   "execution_count": 21,
   "id": "b846e815",
   "metadata": {},
   "outputs": [
    {
     "name": "stdout",
     "output_type": "stream",
     "text": [
      "{1, 2, 3, 4, 5, 6, 7}\n"
     ]
    },
    {
     "data": {
      "text/plain": [
       "set"
      ]
     },
     "execution_count": 21,
     "metadata": {},
     "output_type": "execute_result"
    }
   ],
   "source": [
    "my_set = {1,2,3,4,5,6,7}\n",
    "print(my_set)\n",
    "type(my_set)\n"
   ]
  },
  {
   "cell_type": "code",
   "execution_count": 26,
   "id": "f3c58432",
   "metadata": {},
   "outputs": [
    {
     "name": "stdout",
     "output_type": "stream",
     "text": [
      "set()\n"
     ]
    },
    {
     "data": {
      "text/plain": [
       "set"
      ]
     },
     "execution_count": 26,
     "metadata": {},
     "output_type": "execute_result"
    }
   ],
   "source": [
    "new_set = set()\n",
    "\n",
    "print(new_set)\n",
    "type(new_set)\n"
   ]
  },
  {
   "cell_type": "code",
   "execution_count": 28,
   "id": "073305e5",
   "metadata": {},
   "outputs": [
    {
     "name": "stdout",
     "output_type": "stream",
     "text": [
      "outside if block\n"
     ]
    }
   ],
   "source": [
    "#if conditions\n",
    "cf = 675.25\n",
    "if cf < 500 :\n",
    "    print(\"City is sustainable\")\n",
    "    print(\"inside If block\")\n",
    "print(\"outside if block\")    "
   ]
  },
  {
   "cell_type": "code",
   "execution_count": 1,
   "id": "9fe13f23",
   "metadata": {},
   "outputs": [
    {
     "name": "stdout",
     "output_type": "stream",
     "text": [
      "You can recycle the plastic\n",
      "Thank you\n"
     ]
    }
   ],
   "source": [
    "waste_type = input(\"Enter your waste type(plastic/organic/electronic): \")\n",
    "if waste_type == 'plastic':\n",
    "    print(\"You can recycle the plastic\")\n",
    "elif waste_type == \"organic\":\n",
    "    print(\"You can create compost of it\")\n",
    "elif waste_type == \"electronic\":\n",
    "    print(\"Deposit it to nearest collection center\")\n",
    "else:\n",
    "    print(\"Kindly enter valid waste type....\")\n",
    "print(\"Thank you\")"
   ]
  },
  {
   "cell_type": "code",
   "execution_count": 2,
   "id": "11ad9c94",
   "metadata": {},
   "outputs": [
    {
     "name": "stdout",
     "output_type": "stream",
     "text": [
      "Sustanability need improvement\n"
     ]
    }
   ],
   "source": [
    "energy_cons=float(input(\" Enter Energy Consumption(kwh): \"))\n",
    "recycle_rate=int(input(\"Enter recycling rate: \"))\n",
    "emmision_level=int(input(\"Enter emission level: \"))\n",
    "if energy_cons<1000:\n",
    "    if recycle_rate>50:\n",
    "        if emmision_level<20:\n",
    "            print(\"Sustanability is excellent\")\n",
    "        else:\n",
    "            print(\"Reduce emmision level\")\n",
    "    else:\n",
    "        print(\"Sustanability need improvement\")\n",
    "else:\n",
    "    print(\"Need sustainable improvements\")\n",
    "    "
   ]
  },
  {
   "cell_type": "code",
   "execution_count": 4,
   "id": "65052184",
   "metadata": {},
   "outputs": [
    {
     "name": "stdout",
     "output_type": "stream",
     "text": [
      "S u s t a n i b i l i t y "
     ]
    }
   ],
   "source": [
    "#Definite Loop : for loop\n",
    "s1 = \"Sustanibility\"\n",
    "for char in s1:\n",
    "    print(char,end = ' ')"
   ]
  },
  {
   "cell_type": "code",
   "execution_count": 7,
   "id": "160402dd",
   "metadata": {},
   "outputs": [
    {
     "name": "stdout",
     "output_type": "stream",
     "text": [
      "26\n"
     ]
    }
   ],
   "source": [
    "temp = [23,30,25,28,27,31,26]\n",
    "for day in temp :\n",
    "    if day == 26 :\n",
    "        print(day)"
   ]
  },
  {
   "cell_type": "code",
   "execution_count": 10,
   "id": "1436f67f",
   "metadata": {},
   "outputs": [
    {
     "name": "stdout",
     "output_type": "stream",
     "text": [
      "190\n",
      "7\n",
      "27.142857142857142\n"
     ]
    }
   ],
   "source": [
    "total = 0\n",
    "count = 0\n",
    "for day in temp :\n",
    "    total = total + day\n",
    "    count = count +1\n",
    "print(total)\n",
    "print(count)\n",
    "print(total/count)"
   ]
  },
  {
   "cell_type": "code",
   "execution_count": 11,
   "id": "cd616e8e",
   "metadata": {},
   "outputs": [
    {
     "name": "stdout",
     "output_type": "stream",
     "text": [
      "You have entered: hjwh\n",
      "You have entered: wok\n",
      "You have entered: jwi\n",
      "You have entered: quit\n",
      "Quitting....\n",
      "Thank you....!\n"
     ]
    }
   ],
   "source": [
    "user_input = ''\n",
    "while user_input != 'quit' :\n",
    "    user_input = input(\"Enter something display or quit\")\n",
    "    print(f\"You have entered: {user_input}\")\n",
    "print(\"Quitting....\")\n",
    "print(\"Thank you....!\")\n"
   ]
  },
  {
   "cell_type": "code",
   "execution_count": 13,
   "id": "1ee7bd36",
   "metadata": {},
   "outputs": [
    {
     "name": "stdout",
     "output_type": "stream",
     "text": [
      "0\n",
      "1\n",
      "2\n",
      "3\n",
      "4\n",
      "5\n",
      "6\n",
      "7\n",
      "8\n",
      "9\n",
      "1\n",
      "3\n",
      "5\n",
      "7\n",
      "9\n",
      "11\n",
      "13\n",
      "15\n",
      "17\n",
      "19\n",
      "21\n",
      "23\n",
      "25\n",
      "27\n",
      "29\n",
      "31\n",
      "33\n",
      "35\n",
      "37\n",
      "39\n",
      "41\n",
      "43\n",
      "45\n",
      "47\n",
      "49\n"
     ]
    }
   ],
   "source": [
    "for num in range(10):\n",
    "    print(num)\n",
    "\n",
    "for num in range(1,51,2):\n",
    "    print(num)\n"
   ]
  },
  {
   "cell_type": "code",
   "execution_count": 2,
   "id": "dd9afec9",
   "metadata": {},
   "outputs": [
    {
     "name": "stdout",
     "output_type": "stream",
     "text": [
      "55\n"
     ]
    }
   ],
   "source": [
    "n = int(input(\"Enter the number:\"))\n",
    "total = 0\n",
    "for num in range(1,n+1) :\n",
    "    total += num\n",
    "print(total)"
   ]
  },
  {
   "cell_type": "code",
   "execution_count": 5,
   "id": "45784e9e",
   "metadata": {},
   "outputs": [
    {
     "name": "stdout",
     "output_type": "stream",
     "text": [
      "30\n"
     ]
    }
   ],
   "source": [
    "def add() :\n",
    "    a=10\n",
    "    b=20\n",
    "    c=a+b\n",
    "    return c\n",
    "print(add())\n",
    "    "
   ]
  },
  {
   "cell_type": "code",
   "execution_count": 6,
   "id": "00388f14",
   "metadata": {},
   "outputs": [
    {
     "data": {
      "text/plain": [
       "60"
      ]
     },
     "execution_count": 6,
     "metadata": {},
     "output_type": "execute_result"
    }
   ],
   "source": [
    "def addThree(a,b,c):\n",
    "    total = a + b + c\n",
    "    return total\n",
    "addThree(10,20,30)"
   ]
  },
  {
   "cell_type": "code",
   "execution_count": 7,
   "id": "adfc46de",
   "metadata": {},
   "outputs": [
    {
     "name": "stdout",
     "output_type": "stream",
     "text": [
      "Welcome Raj you are 25 year old\n"
     ]
    }
   ],
   "source": [
    "def greet(name,age):\n",
    "    print(f\"Welcome {name} you are {age} year old\")\n",
    "greet(age = 25,name = \"Raj\")"
   ]
  },
  {
   "cell_type": "code",
   "execution_count": 8,
   "id": "a5896515",
   "metadata": {},
   "outputs": [
    {
     "data": {
      "text/plain": [
       "27"
      ]
     },
     "execution_count": 8,
     "metadata": {},
     "output_type": "execute_result"
    }
   ],
   "source": [
    "def addn(*numbers):\n",
    "    tot =0\n",
    "    for num in numbers:\n",
    "        tot += num\n",
    "    return tot\n",
    "addn(10,2,10,5)\n"
   ]
  },
  {
   "cell_type": "code",
   "execution_count": 1,
   "id": "ceb10cc9",
   "metadata": {},
   "outputs": [
    {
     "name": "stdout",
     "output_type": "stream",
     "text": [
      "CSE_building\n"
     ]
    }
   ],
   "source": [
    "class Building :\n",
    "    pass\n",
    "b1 = Building()\n",
    "b1.name = \"CSE_building\"\n",
    "b1.energy_cons = 1500\n",
    "\n",
    "print(b1.name)"
   ]
  },
  {
   "cell_type": "code",
   "execution_count": 2,
   "id": "62bb65fe",
   "metadata": {},
   "outputs": [
    {
     "name": "stdout",
     "output_type": "stream",
     "text": [
      "CSE\n"
     ]
    }
   ],
   "source": [
    "class Building :\n",
    "    def __init__(self,name,energy_cons):\n",
    "        self.name = name\n",
    "        self.energy_cons = energy_cons\n",
    "\n",
    "b1 = Building(\"CSE\",1200)\n",
    "b2 = Building(\"ETC\",1100)\n",
    "\n",
    "print(b1.name)"
   ]
  },
  {
   "cell_type": "code",
   "execution_count": 7,
   "id": "2b85f659",
   "metadata": {},
   "outputs": [
    {
     "data": {
      "text/plain": [
       "636.0"
      ]
     },
     "execution_count": 7,
     "metadata": {},
     "output_type": "execute_result"
    }
   ],
   "source": [
    "class Building :\n",
    "    def __init__(self,name,energy_cons):\n",
    "        self.name = name\n",
    "        self.energy_cons = energy_cons\n",
    "    \n",
    "    def calculate_carbon_footprints(self):\n",
    "        return self.energy_cons * 0.53\n",
    "b1 = Building(\"CSE\",1200)\n",
    "b2 = Building(\"ETC\",1100)\n",
    "b1.calculate_carbon_footprints()"
   ]
  },
  {
   "cell_type": "code",
   "execution_count": 13,
   "id": "2b0866f7",
   "metadata": {},
   "outputs": [
    {
     "data": {
      "text/plain": [
       "6480.0"
      ]
     },
     "execution_count": 13,
     "metadata": {},
     "output_type": "execute_result"
    }
   ],
   "source": [
    "class EnergySystem :\n",
    "    def __init__(self,name,energy_cons,emission_fact):\n",
    "        self.name = name\n",
    "        self.energy_cons = energy_cons\n",
    "        self.emission_fact = emission_fact\n",
    "\n",
    "    def calculate_carbon_footprints(self):\n",
    "        return self.energy_cons * self.emission_fact\n",
    "\n",
    "    def energy_savings(self):\n",
    "        return self.energy_cons * 0.10   \n",
    "\n",
    "b1 = EnergySystem(\"CSE\",1200,5.4)\n",
    "b2 = EnergySystem(\"ETC\",1100,4.3)\n",
    "b1.calculate_carbon_footprints()\n"
   ]
  },
  {
   "cell_type": "code",
   "execution_count": 11,
   "id": "a51aa9ec",
   "metadata": {},
   "outputs": [
    {
     "data": {
      "text/plain": [
       "120.0"
      ]
     },
     "execution_count": 11,
     "metadata": {},
     "output_type": "execute_result"
    }
   ],
   "source": [
    "b1.energy_savings()"
   ]
  },
  {
   "cell_type": "code",
   "execution_count": 1,
   "id": "7a9dc76f",
   "metadata": {},
   "outputs": [],
   "source": [
    "# INHERITANCE\n",
    "# class BaseClass :\n",
    "#     {Body}\n",
    "# class DerivedClass(BaseClass) :\n",
    "#     {Body}\n",
    "\n"
   ]
  },
  {
   "cell_type": "code",
   "execution_count": null,
   "id": "9635ea40",
   "metadata": {},
   "outputs": [
    {
     "name": "stdout",
     "output_type": "stream",
     "text": [
      "700\n",
      "800\n"
     ]
    }
   ],
   "source": [
    "#inheritance\n",
    "class EnergySystem:\n",
    "    def __init__(self, building_name, energy_consumption, emission_factor):\n",
    "        self.building_name = building_name\n",
    "        self.energy_consumption = energy_consumption\n",
    "        self.emission_factor = emission_factor\n",
    "\n",
    "class SolarEnergySystem(EnergySystem):\n",
    "    def __init__(self, building_name, energy_consumption, emission_factor, solar_prod):\n",
    "        super().__init__(building_name, energy_consumption, emission_factor)\n",
    "        self.solar_prod = solar_prod\n",
    "\n",
    "    def net_energy_consumption(self):\n",
    "        return self.energy_consumption - self.solar_prod\n",
    "\n",
    "cse = SolarEnergySystem(\"CSE\", 1200, 0.53, 500)\n",
    "etc = SolarEnergySystem(\"ETC\", 1000, 0.10, 200)\n",
    "\n",
    "print(cse.net_energy_consumption())  \n",
    "print(etc.net_energy_consumption())  \n"
   ]
  },
  {
   "cell_type": "code",
   "execution_count": 8,
   "id": "99af4dfc",
   "metadata": {},
   "outputs": [
    {
     "name": "stdout",
     "output_type": "stream",
     "text": [
      "Library consumes 1500 units of energy.\n",
      "Emission factor: 0.4\n",
      "-----\n",
      "CSE uses solar energy.\n",
      "Original energy consumption: 1200\n",
      "Solar production: 500\n",
      "Net energy consumption: 700\n",
      "Emission factor: 0.53\n",
      "-----\n",
      "ETC uses solar energy.\n",
      "Original energy consumption: 1000\n",
      "Solar production: 200\n",
      "Net energy consumption: 800\n",
      "Emission factor: 0.1\n",
      "-----\n"
     ]
    }
   ],
   "source": [
    "#Polymorphism\n",
    "class EnergySystem:\n",
    "    def __init__(self, building_name, energy_consumption, emission_factor):\n",
    "        self.building_name = building_name\n",
    "        self.energy_consumption = energy_consumption\n",
    "        self.emission_factor = emission_factor\n",
    "\n",
    "    def report(self):\n",
    "        print(f\"{self.building_name} consumes {self.energy_consumption} units of energy.\")\n",
    "        print(f\"Emission factor: {self.emission_factor}\")\n",
    "\n",
    "class SolarEnergySystem(EnergySystem):\n",
    "    def __init__(self, building_name, energy_consumption, emission_factor, solar_prod):\n",
    "        super().__init__(building_name, energy_consumption, emission_factor)\n",
    "        self.solar_prod = solar_prod\n",
    "\n",
    "    def net_energy_consumption(self):\n",
    "        return self.energy_consumption - self.solar_prod\n",
    "\n",
    "    def report(self):  \n",
    "        net_energy = self.net_energy_consumption()\n",
    "        print(f\"{self.building_name} uses solar energy.\")\n",
    "        print(f\"Original energy consumption: {self.energy_consumption}\")\n",
    "        print(f\"Solar production: {self.solar_prod}\")\n",
    "        print(f\"Net energy consumption: {net_energy}\")\n",
    "        print(f\"Emission factor: {self.emission_factor}\")\n",
    "\n",
    "\n",
    "library = EnergySystem(\"Library\", 1500, 0.40)\n",
    "cse = SolarEnergySystem(\"CSE\", 1200, 0.53, 500)\n",
    "etc = SolarEnergySystem(\"ETC\", 1000, 0.10, 200)\n",
    "\n",
    "systems = [library, cse, etc]\n",
    "\n",
    "for system in systems:\n",
    "    system.report()\n",
    "    print(\"-----\")\n"
   ]
  },
  {
   "cell_type": "code",
   "execution_count": 10,
   "id": "ef2e3b14",
   "metadata": {},
   "outputs": [
    {
     "name": "stdout",
     "output_type": "stream",
     "text": [
      "\n",
      "Usage Report for Consumer: CSE Department (ID: 101)\n",
      "  - Water: 120.0 units used\n",
      "  - Electricity: 150.0 units used\n",
      "  - Waste: 60.0 units used\n",
      "\n",
      "\n",
      "Usage Report for Consumer: Admin Block (ID: 102)\n",
      "  - Water: 300.0 units used\n",
      "  - Electricity: 200.0 units used\n",
      "  - Waste: 90.0 units used\n",
      "\n",
      "\n",
      "--- Sustainability Report ---\n",
      "Resource: Water\n",
      "Total Available: 580.0\n",
      "Used: 420.0\n",
      "Renewable: Yes\n",
      "\n",
      "Resource: Electricity\n",
      "Total Available: 450.0\n",
      "Used: 350.0\n",
      "Renewable: No\n",
      "\n",
      "Resource: Waste\n",
      "Total Available: 350.0\n",
      "Used: 150.0\n",
      "Renewable: No\n",
      "\n",
      "Summary:\n",
      "Total Resource Used: 920.0\n",
      "Renewable Resource Used: 420.0\n",
      "Non-Renewable Resource Used: 500.0\n",
      "-----------------------------\n",
      "\n"
     ]
    }
   ],
   "source": [
    "\n",
    "class Resource:\n",
    "    def __init__(self, name, total_available, renewable):\n",
    "        self._name = name\n",
    "        self._total_available = total_available\n",
    "        self._renewable = renewable\n",
    "        self._used = 0.0\n",
    "\n",
    "    def report_usage(self):\n",
    "        print(f\"Resource: {self._name}\")\n",
    "        print(f\"Total Available: {self._total_available}\")\n",
    "        print(f\"Used: {self._used}\")\n",
    "        print(f\"Renewable: {'Yes' if self._renewable else 'No'}\\n\")\n",
    "\n",
    "    def update_availability(self, amount):\n",
    "        if amount < 0:\n",
    "            raise ValueError(\"Usage amount cannot be negative.\")\n",
    "        if amount > self._total_available:\n",
    "            raise ValueError(f\"Not enough {self._name} available.\")\n",
    "        self._total_available -= amount\n",
    "        self._used += amount\n",
    "\n",
    "    def get_name(self):\n",
    "        return self._name\n",
    "\n",
    "    def get_used(self):\n",
    "        return self._used\n",
    "\n",
    "    def is_renewable(self):\n",
    "        return self._renewable\n",
    "\n",
    "class WaterResource(Resource):\n",
    "    pass\n",
    "\n",
    "class EnergyResource(Resource):\n",
    "    pass\n",
    "\n",
    "class WasteResource(Resource):\n",
    "    pass\n",
    "\n",
    "class Consumer:\n",
    "    def __init__(self, consumer_id, name):\n",
    "        self.consumer_id = consumer_id\n",
    "        self.name = name\n",
    "        self.assigned_resources = []\n",
    "        self.usage_history = {}\n",
    "\n",
    "    def assign_resource(self, resource):\n",
    "        self.assigned_resources.append(resource)\n",
    "        self.usage_history[resource.get_name()] = 0.0\n",
    "\n",
    "    def use_resource(self, resource, amount):\n",
    "        if resource not in self.assigned_resources:\n",
    "            raise ValueError(f\"{resource.get_name()} is not assigned to {self.name}.\")\n",
    "        try:\n",
    "            resource.update_availability(amount)\n",
    "            self.usage_history[resource.get_name()] += amount\n",
    "        except ValueError as e:\n",
    "            print(f\"Error for {self.name}: {e}\")\n",
    "\n",
    "    def generate_usage_report(self):\n",
    "        print(f\"\\nUsage Report for Consumer: {self.name} (ID: {self.consumer_id})\")\n",
    "        for resource_name, amount in self.usage_history.items():\n",
    "            print(f\"  - {resource_name}: {amount} units used\")\n",
    "        print()\n",
    "\n",
    "\n",
    "def generate_sustainability_report(resources):\n",
    "    total_used = 0\n",
    "    renewable_used = 0\n",
    "    non_renewable_used = 0\n",
    "\n",
    "    print(\"\\n--- Sustainability Report ---\")\n",
    "    for res in resources:\n",
    "        res.report_usage()\n",
    "        total_used += res.get_used()\n",
    "        if res.is_renewable():\n",
    "            renewable_used += res.get_used()\n",
    "        else:\n",
    "            non_renewable_used += res.get_used()\n",
    "\n",
    "    print(\"Summary:\")\n",
    "    print(f\"Total Resource Used: {total_used}\")\n",
    "    print(f\"Renewable Resource Used: {renewable_used}\")\n",
    "    print(f\"Non-Renewable Resource Used: {non_renewable_used}\")\n",
    "\n",
    "    if total_used > 1000:\n",
    "        print(\"⚠️  Alert: High overall resource usage. Consider sustainability actions.\")\n",
    "    print(\"-----------------------------\\n\")\n",
    "\n",
    "if __name__ == \"__main__\":\n",
    "    water = WaterResource(\"Water\", 1000.0, True)\n",
    "    energy = EnergyResource(\"Electricity\", 800.0, False)\n",
    "    waste = WasteResource(\"Waste\", 500.0, False)\n",
    "\n",
    "    all_resources = [water, energy, waste]\n",
    "\n",
    "   \n",
    "    dept1 = Consumer(101, \"CSE Department\")\n",
    "    dept2 = Consumer(102, \"Admin Block\")\n",
    "\n",
    "  \n",
    "    for r in all_resources:\n",
    "        dept1.assign_resource(r)\n",
    "        dept2.assign_resource(r)\n",
    "\n",
    " \n",
    "    dept1.use_resource(water, 120)\n",
    "    dept1.use_resource(energy, 150)\n",
    "    dept1.use_resource(waste, 60)\n",
    "\n",
    "    dept2.use_resource(water, 300)\n",
    "    dept2.use_resource(energy, 200)\n",
    "    dept2.use_resource(waste, 90)\n",
    "\n",
    "\n",
    "    dept1.generate_usage_report()\n",
    "    dept2.generate_usage_report()\n",
    "\n",
    "    generate_sustainability_report(all_resources)\n"
   ]
  },
  {
   "cell_type": "code",
   "execution_count": 11,
   "id": "c436d2de",
   "metadata": {},
   "outputs": [
    {
     "name": "stdout",
     "output_type": "stream",
     "text": [
      "\n",
      " Usage Report - CSE Department (ID: 101)\n",
      "  - Water: 120.0 units used\n",
      "  - Electricity: 150.0 units used\n",
      "  - Waste: 60.0 units used\n",
      "----------------------------------------\n",
      "\n",
      " Usage Report - Admin Block (ID: 102)\n",
      "  - Water: 300.0 units used\n",
      "  - Electricity: 200.0 units used\n",
      "  - Waste: 90.0 units used\n",
      "----------------------------------------\n",
      "\n",
      " Sustainability Report:\n",
      "Resource: Water\n",
      "  Total Available: 580.0\n",
      "  Used: 420.0\n",
      "  Renewable: Yes\n",
      "\n",
      "Resource: Electricity\n",
      "  Total Available: 450.0\n",
      "  Used: 350.0\n",
      "  Renewable: No\n",
      "\n",
      "Resource: Waste\n",
      "  Total Available: 350.0\n",
      "  Used: 150.0\n",
      "  Renewable: No\n",
      "\n",
      " Summary:\n",
      "  Total Used: 920.0 units\n",
      "  Renewable: 420.0 units\n",
      "  Non-Renewable: 500.0 units\n",
      "----------------------------------------\n"
     ]
    }
   ],
   "source": [
    "\n",
    "class Resource:\n",
    "    def __init__(self, name, total_available, renewable):\n",
    "        self._name = name\n",
    "        self._total_available = total_available\n",
    "        self._renewable = renewable\n",
    "        self._used = 0.0\n",
    "\n",
    "    def report_usage(self):\n",
    "        print(f\"Resource: {self._name}\")\n",
    "        print(f\"  Total Available: {self._total_available}\")\n",
    "        print(f\"  Used: {self._used}\")\n",
    "        print(f\"  Renewable: {'Yes' if self._renewable else 'No'}\\n\")\n",
    "\n",
    "    def update_availability(self, amount):\n",
    "        if amount < 0:\n",
    "            print(\" Error: Negative usage not allowed.\")\n",
    "            return\n",
    "        if amount > self._total_available:\n",
    "            print(f\" Error: Not enough {self._name} available.\")\n",
    "            return\n",
    "        self._total_available -= amount\n",
    "        self._used += amount\n",
    "\n",
    "    def get_name(self):\n",
    "        return self._name\n",
    "\n",
    "    def get_used(self):\n",
    "        return self._used\n",
    "\n",
    "    def is_renewable(self):\n",
    "        return self._renewable\n",
    "\n",
    "class WaterResource(Resource):\n",
    "    pass\n",
    "\n",
    "class EnergyResource(Resource):\n",
    "    pass\n",
    "\n",
    "class WasteResource(Resource):\n",
    "    pass\n",
    "\n",
    "\n",
    "class Consumer:\n",
    "    def __init__(self, consumer_id, name):\n",
    "        self.consumer_id = consumer_id\n",
    "        self.name = name\n",
    "        self.assigned_resources = []\n",
    "        self.usage_history = {}\n",
    "\n",
    "    def assign_resource(self, resource):\n",
    "        self.assigned_resources.append(resource)\n",
    "        self.usage_history[resource.get_name()] = 0.0\n",
    "\n",
    "    def use_resource(self, resource, amount):\n",
    "        if resource not in self.assigned_resources:\n",
    "            print(f\" {resource.get_name()} not assigned to {self.name}\")\n",
    "            return\n",
    "        before = resource.get_used()\n",
    "        resource.update_availability(amount)\n",
    "        after = resource.get_used()\n",
    "        self.usage_history[resource.get_name()] += (after - before)\n",
    "\n",
    "    def generate_usage_report(self):\n",
    "        print(f\"\\n Usage Report - {self.name} (ID: {self.consumer_id})\")\n",
    "        for res, amt in self.usage_history.items():\n",
    "            print(f\"  - {res}: {amt} units used\")\n",
    "        print(\"-\" * 40)\n",
    "\n",
    "\n",
    "def generate_sustainability_report(resources):\n",
    "    total = renewable = non_renewable = 0.0\n",
    "\n",
    "    print(\"\\n Sustainability Report:\")\n",
    "    for r in resources:\n",
    "        r.report_usage()\n",
    "        used = r.get_used()\n",
    "        total += used\n",
    "        if r.is_renewable():\n",
    "            renewable += used\n",
    "        else:\n",
    "            non_renewable += used\n",
    "\n",
    "    print(\" Summary:\")\n",
    "    print(f\"  Total Used: {total} units\")\n",
    "    print(f\"  Renewable: {renewable} units\")\n",
    "    print(f\"  Non-Renewable: {non_renewable} units\")\n",
    "    if total > 1000:\n",
    "        print(\"  Alert: High overall usage! Consider reducing consumption.\")\n",
    "    print(\"-\" * 40)\n",
    "\n",
    "if __name__ == \"__main__\":\n",
    "    \n",
    "    water = WaterResource(\"Water\", 1000.0, True)\n",
    "    energy = EnergyResource(\"Electricity\", 800.0, False)\n",
    "    waste = WasteResource(\"Waste\", 500.0, False)\n",
    "\n",
    "    all_resources = [water, energy, waste]\n",
    "\n",
    "\n",
    "    cse = Consumer(101, \"CSE Department\")\n",
    "    admin = Consumer(102, \"Admin Block\")\n",
    "\n",
    "    \n",
    "    for res in all_resources:\n",
    "        cse.assign_resource(res)\n",
    "        admin.assign_resource(res)\n",
    "\n",
    "    cse.use_resource(water, 120)\n",
    "    cse.use_resource(energy, 150)\n",
    "    cse.use_resource(waste, 60)\n",
    "\n",
    "    admin.use_resource(water, 300)\n",
    "    admin.use_resource(energy, 200)\n",
    "    admin.use_resource(waste, 90)\n",
    "\n",
    "\n",
    "    cse.generate_usage_report()\n",
    "    admin.generate_usage_report()\n",
    "\n",
    "    generate_sustainability_report(all_resources)\n"
   ]
  },
  {
   "cell_type": "code",
   "execution_count": null,
   "id": "4c0cab6e",
   "metadata": {},
   "outputs": [],
   "source": []
  }
 ],
 "metadata": {
  "kernelspec": {
   "display_name": "Python 3",
   "language": "python",
   "name": "python3"
  },
  "language_info": {
   "codemirror_mode": {
    "name": "ipython",
    "version": 3
   },
   "file_extension": ".py",
   "mimetype": "text/x-python",
   "name": "python",
   "nbconvert_exporter": "python",
   "pygments_lexer": "ipython3",
   "version": "3.12.6"
  }
 },
 "nbformat": 4,
 "nbformat_minor": 5
}
