{
 "cells": [
  {
   "cell_type": "markdown",
   "id": "9bbd276e",
   "metadata": {},
   "source": [
    "##NUMPY"
   ]
  },
  {
   "cell_type": "code",
   "execution_count": 2,
   "id": "78f8a5da",
   "metadata": {},
   "outputs": [
    {
     "name": "stdout",
     "output_type": "stream",
     "text": [
      "Array: [1 2 3 4 5]\n",
      "<class 'numpy.ndarray'>\n",
      "Sum: 15\n",
      "Mean: 3.0\n",
      "Multiplied by 2: [ 2  4  6  8 10]\n",
      "Matrix:\n",
      " [[1 2]\n",
      " [3 4]]\n",
      "Transpose:\n",
      " [[1 3]\n",
      " [2 4]]\n"
     ]
    },
    {
     "data": {
      "text/plain": [
       "5"
      ]
     },
     "execution_count": 2,
     "metadata": {},
     "output_type": "execute_result"
    }
   ],
   "source": [
    "import numpy as np\n",
    "\n",
    "\n",
    "arr = np.array([1, 2, 3, 4, 5])\n",
    "print(\"Array:\", arr)\n",
    "print(type(arr))\n",
    "\n",
    "\n",
    "print(\"Sum:\", np.sum(arr))\n",
    "\n",
    "\n",
    "print(\"Mean:\", np.mean(arr))\n",
    "\n",
    "\n",
    "print(\"Multiplied by 2:\", arr * 2)\n",
    "\n",
    "\n",
    "matrix = np.array([[1, 2], [3, 4]])\n",
    "print(\"Matrix:\\n\", matrix)\n",
    "\n",
    "print(\"Transpose:\\n\", matrix.T)\n",
    "\n",
    "arr.size\n"
   ]
  },
  {
   "cell_type": "code",
   "execution_count": 3,
   "id": "04ef15c2",
   "metadata": {},
   "outputs": [
    {
     "name": "stdout",
     "output_type": "stream",
     "text": [
      "[37 22 29 26 30 23 34]\n"
     ]
    }
   ],
   "source": [
    "weekly_temp = np.random.randint(20,40,size = (7))\n",
    "print(weekly_temp)"
   ]
  },
  {
   "cell_type": "code",
   "execution_count": 21,
   "id": "6a3fa3d2",
   "metadata": {},
   "outputs": [
    {
     "name": "stdout",
     "output_type": "stream",
     "text": [
      "[[3357 1463 2084 3283 2873 2190]\n",
      " [4123 2734 1571 1903 4765 2700]\n",
      " [1280 4255 1872 3454 1412 2407]\n",
      " [3910 2013 2798 3120 4965 3565]]\n",
      "[[3357 4123 1280 3910]\n",
      " [1463 2734 4255 2013]\n",
      " [2084 1571 1872 2798]\n",
      " [3283 1903 3454 3120]\n",
      " [2873 4765 1412 4965]\n",
      " [2190 2700 2407 3565]]\n",
      "[3357 1463 2084 3283 2873 2190 4123 2734 1571 1903 4765 2700 1280 4255\n",
      " 1872 3454 1412 2407 3910 2013 2798 3120 4965 3565]\n"
     ]
    },
    {
     "data": {
      "text/plain": [
       "np.int64(68097)"
      ]
     },
     "execution_count": 21,
     "metadata": {},
     "output_type": "execute_result"
    }
   ],
   "source": [
    "water_consumption = np.random.randint(1000,5000,size = (4,6))\n",
    "print(water_consumption)\n",
    "print(water_consumption.transpose())\n",
    "print(water_consumption.flatten())\n",
    "sum_of_data = water_consumption.sum()\n",
    "sum_of_data\n"
   ]
  },
  {
   "cell_type": "code",
   "execution_count": 26,
   "id": "a5930d22",
   "metadata": {},
   "outputs": [
    {
     "data": {
      "text/plain": [
       "array([12670, 10465,  8325, 11760, 14015, 10862])"
      ]
     },
     "execution_count": 26,
     "metadata": {},
     "output_type": "execute_result"
    }
   ],
   "source": [
    "month_total = water_consumption.sum(axis = 0)\n",
    "month_total"
   ]
  },
  {
   "cell_type": "code",
   "execution_count": null,
   "id": "a0f7569e",
   "metadata": {},
   "outputs": [
    {
     "data": {
      "text/plain": [
       "np.int64(5)"
      ]
     },
     "execution_count": 32,
     "metadata": {},
     "output_type": "execute_result"
    }
   ],
   "source": [
    "month_total.argmax() + 1"
   ]
  },
  {
   "cell_type": "code",
   "execution_count": 33,
   "id": "dab5b247",
   "metadata": {},
   "outputs": [
    {
     "data": {
      "text/plain": [
       "np.int64(3)"
      ]
     },
     "execution_count": 33,
     "metadata": {},
     "output_type": "execute_result"
    }
   ],
   "source": [
    "month_total.argmin() + 1"
   ]
  },
  {
   "cell_type": "code",
   "execution_count": 27,
   "id": "b9c26a35",
   "metadata": {},
   "outputs": [
    {
     "data": {
      "text/plain": [
       "array([15250, 17796, 14680, 20371])"
      ]
     },
     "execution_count": 27,
     "metadata": {},
     "output_type": "execute_result"
    }
   ],
   "source": [
    "building_total = water_consumption.sum(axis = 1)\n",
    "building_total"
   ]
  },
  {
   "cell_type": "code",
   "execution_count": 28,
   "id": "ce1b900b",
   "metadata": {},
   "outputs": [
    {
     "data": {
      "text/plain": [
       "array([3167.5 , 2616.25, 2081.25, 2940.  , 3503.75, 2715.5 ])"
      ]
     },
     "execution_count": 28,
     "metadata": {},
     "output_type": "execute_result"
    }
   ],
   "source": [
    "#Mean value\n",
    "avg_month_wise = water_consumption.mean(axis=0)\n",
    "avg_month_wise"
   ]
  },
  {
   "cell_type": "code",
   "execution_count": 30,
   "id": "19fe035e",
   "metadata": {},
   "outputs": [
    {
     "data": {
      "text/plain": [
       "array([2541.67, 2966.  , 2446.67, 3395.17])"
      ]
     },
     "execution_count": 30,
     "metadata": {},
     "output_type": "execute_result"
    }
   ],
   "source": [
    "avg_bdlg_wise = water_consumption.mean(axis=1)\n",
    "avg_bdlg_wise\n",
    "np.round(avg_bdlg_wise,2)"
   ]
  },
  {
   "cell_type": "code",
   "execution_count": 35,
   "id": "3885103f",
   "metadata": {},
   "outputs": [
    {
     "name": "stdout",
     "output_type": "stream",
     "text": [
      "1043.8763421537692\n",
      "1089677.8177083333\n"
     ]
    }
   ],
   "source": [
    "print(water_consumption.std())\n",
    "print(water_consumption.var())\n"
   ]
  },
  {
   "cell_type": "code",
   "execution_count": 22,
   "id": "6d5e4bd6",
   "metadata": {},
   "outputs": [
    {
     "data": {
      "text/plain": [
       "array([[0., 0., 0.],\n",
       "       [0., 0., 0.],\n",
       "       [0., 0., 0.],\n",
       "       [0., 0., 0.]])"
      ]
     },
     "execution_count": 22,
     "metadata": {},
     "output_type": "execute_result"
    }
   ],
   "source": [
    "zeros_arr = np.zeros(12)\n",
    "zeros_arr.reshape(4,3)"
   ]
  },
  {
   "cell_type": "code",
   "execution_count": 23,
   "id": "31948f71",
   "metadata": {},
   "outputs": [
    {
     "data": {
      "text/plain": [
       "array([[1., 1., 1., 1.],\n",
       "       [1., 1., 1., 1.],\n",
       "       [1., 1., 1., 1.],\n",
       "       [1., 1., 1., 1.]])"
      ]
     },
     "execution_count": 23,
     "metadata": {},
     "output_type": "execute_result"
    }
   ],
   "source": [
    "ones_arr = np.ones(16)\n",
    "ones_arr.reshape(4,4)"
   ]
  },
  {
   "cell_type": "code",
   "execution_count": 24,
   "id": "b1f7abfa",
   "metadata": {},
   "outputs": [
    {
     "name": "stdout",
     "output_type": "stream",
     "text": [
      "[[75 85 73]\n",
      " [74 85 72]\n",
      " [86 58 82]]\n",
      "[[1316 1794 1330]\n",
      " [1368 1764 1287]\n",
      " [1813  816 1680]]\n",
      "[[-19   7   3]\n",
      " [ -2 -13  -6]\n",
      " [-12 -10  -2]]\n",
      "[[0.59574468 1.17948718 1.08571429]\n",
      " [0.94736842 0.73469388 0.84615385]\n",
      " [0.75510204 0.70588235 0.95238095]]\n",
      "[[         0          0          0]\n",
      " [         0          0    9771233]\n",
      " [-672150939          0          0]]\n"
     ]
    }
   ],
   "source": [
    "a = np.random.randint(20,50,size = (3,3))\n",
    "b = np.random.randint(20,50,size = (3,3))\n",
    "addition = np.add(a,b)\n",
    "print(addition)\n",
    "multiplication = np.multiply(a,b)\n",
    "print(multiplication)\n",
    "substraction = np.subtract(a,b)\n",
    "print(substraction)\n",
    "division = np.divide(a,b)\n",
    "print(division)\n",
    "exponential = np.power(a,b)\n",
    "print(exponential)\n",
    "\n"
   ]
  },
  {
   "cell_type": "code",
   "execution_count": 25,
   "id": "ea4fdddd",
   "metadata": {},
   "outputs": [
    {
     "data": {
      "text/plain": [
       "np.int64(68097)"
      ]
     },
     "execution_count": 25,
     "metadata": {},
     "output_type": "execute_result"
    }
   ],
   "source": [
    "sum_of_data = water_consumption.sum()\n",
    "sum_of_data"
   ]
  },
  {
   "cell_type": "code",
   "execution_count": null,
   "id": "747770a0",
   "metadata": {},
   "outputs": [
    {
     "name": "stdout",
     "output_type": "stream",
     "text": [
      "Carbon Emissions Data (10 years, 5 cities): [[3395 1146 4531 2442 1906]\n",
      " [4081 1839 3990 1157 3358]\n",
      " [2430 4730 2260 3173 3463]\n",
      " [4871 4533 1703 3618 2777]\n",
      " [4437 4645 2884 4952 3563]\n",
      " [2260 2218 3051 3446 3776]\n",
      " [1154 3766 3589 3911 4541]\n",
      " [3272 3617 4517 4340 1278]\n",
      " [2478 4349 2677 1290 4726]\n",
      " [3176 2685 1930 1731 2468]]\n",
      "\n",
      "Total Emissions for each city over 10 years:\n",
      " [31554 33528 31132 30060 31856]\n",
      "\n",
      "Total Emissions for each year:\n",
      " [13420 14425 16056 17502 20481 14751 16961 17024 15520 11990]\n",
      "\n",
      "Year with the highest total emissions: Year 5\n",
      "\n",
      "Emissions in Year 5 (all cities):\n",
      "[4437 4645 2884 4952 3563]\n",
      "Average emissions for all cities in Year 5: 4096.20 tons\n"
     ]
    }
   ],
   "source": [
    "# # Exercise 1: Analyzing Carbon Emissions Data\n",
    "# # Imagine you have a dataset containing carbon emissions from various cities in a country over a period of time. The data is organized in a NumPy array where each row represents a year, and each column represents a city.\n",
    "# # Task:\n",
    "# # 1.\tCreate a 2D NumPy array that stores carbon emissions (in tons) for 5 cities over 10 years. The data should be random numbers between 1000 and 5000 (use numpy.random.randint).\n",
    "# # 2.\tFind the total emissions for each city over the 10 years.\n",
    "# # 3.\tFind the year with the highest total emissions.\n",
    "# # 4.\tCalculate the average emissions for all cities in a specific year (say, Year 5).\n",
    "\n",
    "import numpy as np\n",
    "\n",
    "carbon_emissions = np.random.randint(1000, 5001, size=(10, 5))\n",
    "print(\"Carbon Emissions Data (10 years, 5 cities):\", carbon_emissions)\n",
    "\n",
    "total_emissions_per_city = np.sum(carbon_emissions, axis=0)\n",
    "print(\"\\nTotal Emissions for each city over 10 years:\\n\", total_emissions_per_city)\n",
    "\n",
    "total_emissions_per_year = np.sum(carbon_emissions, axis=1)\n",
    "print(\"\\nTotal Emissions for each year:\\n\", total_emissions_per_year)\n",
    "year_with_highest_emissions_index = np.argmax(total_emissions_per_year)\n",
    "\n",
    "year_with_highest_emissions = year_with_highest_emissions_index + 1\n",
    "print(f\"\\nYear with the highest total emissions: Year {year_with_highest_emissions}\")\n",
    "\n",
    "year_5_emissions = carbon_emissions[4, :]\n",
    "average_emissions_year_5 = np.mean(year_5_emissions)\n",
    "print(f\"\\nEmissions in Year 5 (all cities):\\n{year_5_emissions}\")\n",
    "print(f\"Average emissions for all cities in Year 5: {average_emissions_year_5:.2f} tons\")"
   ]
  },
  {
   "cell_type": "code",
   "execution_count": null,
   "id": "97f055d8",
   "metadata": {},
   "outputs": [],
   "source": [
    "# Exercise 2: Water Usage Optimization\n",
    "# You’re tasked with analyzing water usage data for agricultural fields (5 fields) over the course of a year. The data represents water usage (in liters) for each field in each month.\n",
    "# Task:\n",
    "# 1.\tCreate a 2D NumPy array where each row represents a month, and each column represents a field. Generate random data between 5000 and 20000 liters.\n",
    "# 2.\tCalculate the total water usage for each field over the year.\n",
    "# 3.\tFind the month with the highest water usage across all fields.\n",
    "# 4.\tCalculate the average water usage for all fields in a specific month (e.g., February)."
   ]
  }
 ],
 "metadata": {
  "kernelspec": {
   "display_name": "Python 3",
   "language": "python",
   "name": "python3"
  },
  "language_info": {
   "codemirror_mode": {
    "name": "ipython",
    "version": 3
   },
   "file_extension": ".py",
   "mimetype": "text/x-python",
   "name": "python",
   "nbconvert_exporter": "python",
   "pygments_lexer": "ipython3",
   "version": "3.12.6"
  }
 },
 "nbformat": 4,
 "nbformat_minor": 5
}
