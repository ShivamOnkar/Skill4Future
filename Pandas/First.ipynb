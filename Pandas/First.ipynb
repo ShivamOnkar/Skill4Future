{
 "cells": [
  {
   "cell_type": "code",
   "execution_count": 3,
   "id": "23e92434",
   "metadata": {},
   "outputs": [],
   "source": [
    "import pandas as pd \n",
    "import numpy as np"
   ]
  },
  {
   "cell_type": "code",
   "execution_count": null,
   "id": "3bafd178",
   "metadata": {},
   "outputs": [
    {
     "name": "stdout",
     "output_type": "stream",
     "text": [
      "monday       15\n",
      "tursday      20\n",
      "wednesday    10\n",
      "thusday      21\n",
      "friday       14\n",
      "saturday     13\n",
      "sunday       12\n",
      "dtype: int64\n",
      "<class 'pandas.core.series.Series'>\n",
      "12\n"
     ]
    }
   ],
   "source": [
    "water_waste=[15,20,10,21,14,13,12]\n",
    "days=[\"monday\",\"tursday\",\"wednesday\",\"thusday\",\"friday\",\"saturday\",\"sunday\"]\n",
    "water_waste_ser = pd.Series(water_waste, index = days)\n",
    "print(water_waste_ser)\n",
    "print(type(water_waste_ser))\n",
    "print(water_waste_ser.iloc[6]) # Gives the Location "
   ]
  },
  {
   "cell_type": "code",
   "execution_count": 5,
   "id": "2df0a32f",
   "metadata": {},
   "outputs": [
    {
     "name": "stdout",
     "output_type": "stream",
     "text": [
      "Name           Nagpur\n",
      "Temperature        32\n",
      "Humidity           45\n",
      "AQI             99.01\n",
      "CF             375.25\n",
      "dtype: object\n"
     ]
    }
   ],
   "source": [
    "city_data = {\"Name\": \"Nagpur\",\n",
    "             \"Temperature\" : 32,\n",
    "             \"Humidity\": 45,\n",
    "             \"AQI\" : 99.01,\n",
    "             \"CF\": 375.25\n",
    "             }\n",
    "city_ser_dict = pd.Series(city_data)\n",
    "print(city_ser_dict)"
   ]
  },
  {
   "cell_type": "code",
   "execution_count": 22,
   "id": "30fe6ee3",
   "metadata": {},
   "outputs": [
    {
     "name": "stdout",
     "output_type": "stream",
     "text": [
      "[17 10 15 11 11 18 12 11 16 12] [19 11 16 18 10 19 12 12 10 11 18 16 12 16 19]\n",
      "0     18.0\n",
      "1     10.5\n",
      "2     15.5\n",
      "3     14.5\n",
      "4     10.5\n",
      "5     18.5\n",
      "6     12.0\n",
      "7     11.5\n",
      "8     13.0\n",
      "9     11.5\n",
      "10     NaN\n",
      "11     NaN\n",
      "12     NaN\n",
      "13     NaN\n",
      "14     NaN\n",
      "dtype: float64\n",
      "0    36.0\n",
      "1    21.0\n",
      "2    31.0\n",
      "3    29.0\n",
      "4    21.0\n",
      "dtype: float64\n",
      "5\n",
      "0     36.0\n",
      "1     21.0\n",
      "2     31.0\n",
      "3     29.0\n",
      "4     21.0\n",
      "5     37.0\n",
      "6     24.0\n",
      "7     23.0\n",
      "8     26.0\n",
      "9     23.0\n",
      "10    27.1\n",
      "11    27.1\n",
      "12    27.1\n",
      "13    27.1\n",
      "14    27.1\n",
      "dtype: float64\n"
     ]
    }
   ],
   "source": [
    "#Series From ndarray\n",
    "a = np.random.randint(10,20,size = (10))\n",
    "b = np.random.randint(10,20,size = (15))\n",
    "print(a,b)\n",
    "\n",
    "a_ser = pd.Series(a)\n",
    "b_ser = pd.Series(b)\n",
    "# print(a_ser)\n",
    "# print(b_ser)\n",
    "\n",
    "add_ser = a_ser + b_ser\n",
    "print(add_ser.apply(lambda x : x**1/2))\n",
    "\n",
    "print(add_ser.head()) # Similar tail\n",
    "print(add_ser.isna().sum())\n",
    "print(add_ser.fillna(add_ser.mean()))\n"
   ]
  },
  {
   "cell_type": "code",
   "execution_count": 23,
   "id": "33c478a6",
   "metadata": {},
   "outputs": [
    {
     "name": "stdout",
     "output_type": "stream",
     "text": [
      "<class 'pandas.core.series.Series'>\n",
      "Index: 15 entries, 0 to 14\n",
      "Series name: None\n",
      "Non-Null Count  Dtype  \n",
      "--------------  -----  \n",
      "10 non-null     float64\n",
      "dtypes: float64(1)\n",
      "memory usage: 240.0 bytes\n",
      "None\n",
      "count    10.000000\n",
      "mean     27.100000\n",
      "std       5.915141\n",
      "min      21.000000\n",
      "25%      23.000000\n",
      "50%      25.000000\n",
      "75%      30.500000\n",
      "max      37.000000\n",
      "dtype: float64\n"
     ]
    }
   ],
   "source": [
    "print(add_ser.info()) \n",
    "print(add_ser.describe())"
   ]
  },
  {
   "cell_type": "code",
   "execution_count": null,
   "id": "d7a5d7b1",
   "metadata": {},
   "outputs": [
    {
     "name": "stdout",
     "output_type": "stream",
     "text": [
      "Monday       36\n",
      "Tuesday      37\n",
      "Wednesday    27\n",
      "Thursday     25\n",
      "Friday       30\n",
      "Saturday     32\n",
      "Sunday       41\n",
      "dtype: int64\n",
      "228\n",
      "32.57142857142857\n",
      "Sunday Thursday\n",
      "Monday     36\n",
      "Tuesday    37\n",
      "Sunday     41\n",
      "dtype: int64\n"
     ]
    }
   ],
   "source": [
    "# Problem Statement:\n",
    "# Use Pandas Series to analyze Temperature data of a city over a week and draw insights from the data.\n",
    "# Dataset:\n",
    "# Sample temperature data\n",
    "# temp_data = [36, 37, 27, 25, 30, 32, 41]\n",
    "# days_of_week = ['Monday', 'Tuesday', 'Wednesday', 'Thursday', 'Friday', 'Saturday', 'Sunday']\n",
    "# Steps to Perform\n",
    "# 1.\tCreate a Pandas Series for temperature data\n",
    "# •\tUse a list of daily temperature figures to create a Pandas Series\n",
    "# •\tAssign days of the week as the index\n",
    "# 2.\tAccess and manipulate temperature data\n",
    "# •\tAccess temperature data for specific days using index labels\n",
    "# •\tCalculate total temperature for the week\n",
    "# •\tIdentify the day with the highest and lowest temperature\n",
    "# 3.\tBasic analysis of temperature data\n",
    "# •\tCalculate the average temperature for the week\n",
    "# •\tDetermine any days with temperature figures significantly different from the average\n",
    "\n",
    "import pandas as pd\n",
    "\n",
    "temp_data = [36, 37, 27, 25, 30, 32, 41]\n",
    "days_of_week = ['Monday', 'Tuesday', 'Wednesday', 'Thursday', 'Friday', 'Saturday', 'Sunday']\n",
    "\n",
    "temp_ser = pd.Series(temp_data, index = days_of_week)\n",
    "print(temp_ser)\n",
    "\n",
    "total_temp = temp_ser.sum()\n",
    "print(total_temp)\n",
    "\n",
    "avg_temp = temp_ser.mean()\n",
    "print(avg_temp)\n",
    " \n",
    "highest_temp_day = temp_ser.idxmax()\n",
    "lowest_temp_day = temp_ser.idxmin()\n",
    "print(highest_temp_day, lowest_temp_day)\n",
    "\n",
    "days_above_avg = temp_ser[temp_ser > avg_temp]\n",
    "print(days_above_avg)\n"
   ]
  },
  {
   "cell_type": "code",
   "execution_count": 1,
   "id": "97399030",
   "metadata": {},
   "outputs": [
    {
     "data": {
      "text/html": [
       "<div>\n",
       "<style scoped>\n",
       "    .dataframe tbody tr th:only-of-type {\n",
       "        vertical-align: middle;\n",
       "    }\n",
       "\n",
       "    .dataframe tbody tr th {\n",
       "        vertical-align: top;\n",
       "    }\n",
       "\n",
       "    .dataframe thead th {\n",
       "        text-align: right;\n",
       "    }\n",
       "</style>\n",
       "<table border=\"1\" class=\"dataframe\">\n",
       "  <thead>\n",
       "    <tr style=\"text-align: right;\">\n",
       "      <th></th>\n",
       "      <th>waste_type</th>\n",
       "      <th>quantity</th>\n",
       "      <th>recyclable</th>\n",
       "    </tr>\n",
       "  </thead>\n",
       "  <tbody>\n",
       "    <tr>\n",
       "      <th>0</th>\n",
       "      <td>plastic</td>\n",
       "      <td>12</td>\n",
       "      <td>yes</td>\n",
       "    </tr>\n",
       "    <tr>\n",
       "      <th>1</th>\n",
       "      <td>organic</td>\n",
       "      <td>15</td>\n",
       "      <td>no</td>\n",
       "    </tr>\n",
       "    <tr>\n",
       "      <th>2</th>\n",
       "      <td>electronic</td>\n",
       "      <td>30</td>\n",
       "      <td>yes</td>\n",
       "    </tr>\n",
       "  </tbody>\n",
       "</table>\n",
       "</div>"
      ],
      "text/plain": [
       "   waste_type  quantity recyclable\n",
       "0     plastic        12        yes\n",
       "1     organic        15         no\n",
       "2  electronic        30        yes"
      ]
     },
     "execution_count": 1,
     "metadata": {},
     "output_type": "execute_result"
    }
   ],
   "source": [
    "import pandas as pd\n",
    "waste_data = {\"waste_type\":[\"plastic\",\"organic\",\"electronic\"],\n",
    "              \"quantity\":[12,15,30],\n",
    "              \"recyclable\": [\"yes\",\"no\",\"yes\"]\n",
    "              }\n",
    "waste_data_df = pd.DataFrame(waste_data)\n",
    "waste_data_df"
   ]
  },
  {
   "cell_type": "code",
   "execution_count": 2,
   "id": "4b02c575",
   "metadata": {},
   "outputs": [
    {
     "ename": "TypeError",
     "evalue": "DataFrame.__init__() got an unexpected keyword argument 'coloumn'",
     "output_type": "error",
     "traceback": [
      "\u001b[31m---------------------------------------------------------------------------\u001b[39m",
      "\u001b[31mTypeError\u001b[39m                                 Traceback (most recent call last)",
      "\u001b[36mCell\u001b[39m\u001b[36m \u001b[39m\u001b[32mIn[2]\u001b[39m\u001b[32m, line 3\u001b[39m\n\u001b[32m      1\u001b[39m \u001b[38;5;28;01mimport\u001b[39;00m\u001b[38;5;250m \u001b[39m\u001b[34;01mpandas\u001b[39;00m\u001b[38;5;250m \u001b[39m\u001b[38;5;28;01mas\u001b[39;00m\u001b[38;5;250m \u001b[39m\u001b[34;01mpd\u001b[39;00m\n\u001b[32m      2\u001b[39m waste_list = [[\u001b[33m\"\u001b[39m\u001b[33mplastic\u001b[39m\u001b[33m\"\u001b[39m,\u001b[32m15\u001b[39m,\u001b[38;5;28;01mTrue\u001b[39;00m],[\u001b[33m\"\u001b[39m\u001b[33morganic\u001b[39m\u001b[33m\"\u001b[39m,\u001b[32m25\u001b[39m, \u001b[38;5;28;01mFalse\u001b[39;00m],[\u001b[33m\"\u001b[39m\u001b[33melectronic\u001b[39m\u001b[33m\"\u001b[39m,\u001b[32m35\u001b[39m,\u001b[38;5;28;01mTrue\u001b[39;00m]]\n\u001b[32m----> \u001b[39m\u001b[32m3\u001b[39m waste_data_df = \u001b[43mpd\u001b[49m\u001b[43m.\u001b[49m\u001b[43mDataFrame\u001b[49m\u001b[43m(\u001b[49m\u001b[43mwaste_list\u001b[49m\u001b[43m,\u001b[49m\u001b[43mcoloumn\u001b[49m\u001b[43m \u001b[49m\u001b[43m=\u001b[49m\u001b[43m \u001b[49m\u001b[43m[\u001b[49m\u001b[33;43m\"\u001b[39;49m\u001b[33;43mwaste_type\u001b[39;49m\u001b[33;43m\"\u001b[39;49m\u001b[43m,\u001b[49m\u001b[33;43m\"\u001b[39;49m\u001b[33;43mquantity\u001b[39;49m\u001b[33;43m\"\u001b[39;49m\u001b[43m,\u001b[49m\u001b[33;43m\"\u001b[39;49m\u001b[33;43mrecyclable\u001b[39;49m\u001b[33;43m\"\u001b[39;49m\u001b[43m,\u001b[49m\u001b[43m]\u001b[49m\u001b[43m)\u001b[49m\n\u001b[32m      4\u001b[39m waste_data_df\n",
      "\u001b[31mTypeError\u001b[39m: DataFrame.__init__() got an unexpected keyword argument 'coloumn'"
     ]
    }
   ],
   "source": [
    "import pandas as pd\n",
    "waste_list = [[\"plastic\",15,True],[\"organic\",25, False],[\"electronic\",35,True]]\n",
    "waste_data_df = pd.DataFrame(waste_list,coloumn = [\"waste_type\",\"quantity\",\"recyclable\",])\n",
    "waste_data_df"
   ]
  },
  {
   "cell_type": "code",
   "execution_count": 3,
   "id": "689228ec",
   "metadata": {},
   "outputs": [
    {
     "data": {
      "text/html": [
       "<div>\n",
       "<style scoped>\n",
       "    .dataframe tbody tr th:only-of-type {\n",
       "        vertical-align: middle;\n",
       "    }\n",
       "\n",
       "    .dataframe tbody tr th {\n",
       "        vertical-align: top;\n",
       "    }\n",
       "\n",
       "    .dataframe thead th {\n",
       "        text-align: right;\n",
       "    }\n",
       "</style>\n",
       "<table border=\"1\" class=\"dataframe\">\n",
       "  <thead>\n",
       "    <tr style=\"text-align: right;\">\n",
       "      <th></th>\n",
       "      <th>name</th>\n",
       "      <th>age</th>\n",
       "      <th>salary</th>\n",
       "    </tr>\n",
       "  </thead>\n",
       "  <tbody>\n",
       "    <tr>\n",
       "      <th>0</th>\n",
       "      <td>raj</td>\n",
       "      <td>28</td>\n",
       "      <td>50000</td>\n",
       "    </tr>\n",
       "    <tr>\n",
       "      <th>1</th>\n",
       "      <td>simran</td>\n",
       "      <td>26</td>\n",
       "      <td>60000</td>\n",
       "    </tr>\n",
       "    <tr>\n",
       "      <th>2</th>\n",
       "      <td>rahul</td>\n",
       "      <td>29</td>\n",
       "      <td>75000</td>\n",
       "    </tr>\n",
       "  </tbody>\n",
       "</table>\n",
       "</div>"
      ],
      "text/plain": [
       "     name age salary\n",
       "0     raj  28  50000\n",
       "1  simran  26  60000\n",
       "2   rahul  29  75000"
      ]
     },
     "execution_count": 3,
     "metadata": {},
     "output_type": "execute_result"
    }
   ],
   "source": [
    "import numpy as np\n",
    "salary_data = np.array([[\"raj\",28,50000],[\"simran\",26,60000],[\"rahul\",29,75000]])\n",
    "col = [\"name\",\"age\",\"salary\"]\n",
    "salary_df = pd.DataFrame(salary_data,columns=col)\n",
    "salary_df\n"
   ]
  },
  {
   "cell_type": "code",
   "execution_count": null,
   "id": "f72be2ea",
   "metadata": {},
   "outputs": [],
   "source": []
  }
 ],
 "metadata": {
  "kernelspec": {
   "display_name": "Python 3",
   "language": "python",
   "name": "python3"
  },
  "language_info": {
   "codemirror_mode": {
    "name": "ipython",
    "version": 3
   },
   "file_extension": ".py",
   "mimetype": "text/x-python",
   "name": "python",
   "nbconvert_exporter": "python",
   "pygments_lexer": "ipython3",
   "version": "3.12.6"
  }
 },
 "nbformat": 4,
 "nbformat_minor": 5
}
